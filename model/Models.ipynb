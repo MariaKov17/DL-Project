{
 "cells": [
  {
   "cell_type": "code",
   "execution_count": 1,
   "id": "e26d43df-f89c-471a-a892-02f8e6085a82",
   "metadata": {},
   "outputs": [],
   "source": [
    "import pandas as pd\n",
    "import numpy as np\n",
    "from sklearn.ensemble import RandomForestRegressor, RandomForestClassifier\n",
    "from sklearn.model_selection import train_test_split\n",
    "from sklearn.metrics import mean_absolute_error, classification_report, accuracy_score\n",
    "from sklearn.preprocessing import LabelEncoder\n",
    "from sklearn.linear_model import LinearRegression\n",
    "from sklearn.ensemble import RandomForestRegressor\n",
    "from sklearn.metrics import mean_squared_error"
   ]
  },
  {
   "cell_type": "code",
   "execution_count": 2,
   "id": "777f8066-0381-4df8-9e02-e53c7ce70390",
   "metadata": {},
   "outputs": [],
   "source": [
    "df = pd.read_csv(\"merged_data.csv\")"
   ]
  },
  {
   "cell_type": "code",
   "execution_count": 3,
   "id": "a57c5fc1-da13-435c-ad03-0e8a6554c364",
   "metadata": {},
   "outputs": [
    {
     "data": {
      "text/html": [
       "<div>\n",
       "<style scoped>\n",
       "    .dataframe tbody tr th:only-of-type {\n",
       "        vertical-align: middle;\n",
       "    }\n",
       "\n",
       "    .dataframe tbody tr th {\n",
       "        vertical-align: top;\n",
       "    }\n",
       "\n",
       "    .dataframe thead th {\n",
       "        text-align: right;\n",
       "    }\n",
       "</style>\n",
       "<table border=\"1\" class=\"dataframe\">\n",
       "  <thead>\n",
       "    <tr style=\"text-align: right;\">\n",
       "      <th></th>\n",
       "      <th>name</th>\n",
       "      <th>id</th>\n",
       "      <th>type</th>\n",
       "      <th>classification</th>\n",
       "      <th>mass</th>\n",
       "      <th>fall</th>\n",
       "      <th>year</th>\n",
       "      <th>latitude</th>\n",
       "      <th>longitude</th>\n",
       "      <th>country</th>\n",
       "      <th>...</th>\n",
       "      <th>2015</th>\n",
       "      <th>2016</th>\n",
       "      <th>2017</th>\n",
       "      <th>2018</th>\n",
       "      <th>2019</th>\n",
       "      <th>2020</th>\n",
       "      <th>2021</th>\n",
       "      <th>2022</th>\n",
       "      <th>2023</th>\n",
       "      <th>2024</th>\n",
       "    </tr>\n",
       "  </thead>\n",
       "  <tbody>\n",
       "    <tr>\n",
       "      <th>0</th>\n",
       "      <td>Haven</td>\n",
       "      <td>11858</td>\n",
       "      <td>Valid</td>\n",
       "      <td>H6</td>\n",
       "      <td>6100.0</td>\n",
       "      <td>Found</td>\n",
       "      <td>1950.0</td>\n",
       "      <td>37.96417</td>\n",
       "      <td>-97.75583</td>\n",
       "      <td>United States</td>\n",
       "      <td>...</td>\n",
       "      <td>25.239417</td>\n",
       "      <td>25.479003</td>\n",
       "      <td>25.713686</td>\n",
       "      <td>25.939171</td>\n",
       "      <td>26.155144</td>\n",
       "      <td>26.323940</td>\n",
       "      <td>26.445826</td>\n",
       "      <td>26.590781</td>\n",
       "      <td>26.769253</td>\n",
       "      <td>26.948271</td>\n",
       "    </tr>\n",
       "    <tr>\n",
       "      <th>1</th>\n",
       "      <td>St. Louis</td>\n",
       "      <td>23089</td>\n",
       "      <td>Valid</td>\n",
       "      <td>H4</td>\n",
       "      <td>1000.0</td>\n",
       "      <td>Fell</td>\n",
       "      <td>1950.0</td>\n",
       "      <td>38.70000</td>\n",
       "      <td>-90.23333</td>\n",
       "      <td>United States</td>\n",
       "      <td>...</td>\n",
       "      <td>25.239417</td>\n",
       "      <td>25.479003</td>\n",
       "      <td>25.713686</td>\n",
       "      <td>25.939171</td>\n",
       "      <td>26.155144</td>\n",
       "      <td>26.323940</td>\n",
       "      <td>26.445826</td>\n",
       "      <td>26.590781</td>\n",
       "      <td>26.769253</td>\n",
       "      <td>26.948271</td>\n",
       "    </tr>\n",
       "    <tr>\n",
       "      <th>2</th>\n",
       "      <td>Arroyo Aguiar</td>\n",
       "      <td>2340</td>\n",
       "      <td>Valid</td>\n",
       "      <td>H5</td>\n",
       "      <td>7450.0</td>\n",
       "      <td>Fell</td>\n",
       "      <td>1950.0</td>\n",
       "      <td>-31.41667</td>\n",
       "      <td>-60.66667</td>\n",
       "      <td>Argentina</td>\n",
       "      <td>...</td>\n",
       "      <td>15.573055</td>\n",
       "      <td>15.724678</td>\n",
       "      <td>15.863864</td>\n",
       "      <td>15.994957</td>\n",
       "      <td>16.109071</td>\n",
       "      <td>16.187335</td>\n",
       "      <td>16.230432</td>\n",
       "      <td>16.264683</td>\n",
       "      <td>16.311426</td>\n",
       "      <td>16.367933</td>\n",
       "    </tr>\n",
       "    <tr>\n",
       "      <th>3</th>\n",
       "      <td>Plainview (1950)</td>\n",
       "      <td>18842</td>\n",
       "      <td>Valid</td>\n",
       "      <td>H</td>\n",
       "      <td>2200.0</td>\n",
       "      <td>Found</td>\n",
       "      <td>1950.0</td>\n",
       "      <td>34.11667</td>\n",
       "      <td>-101.78333</td>\n",
       "      <td>United States</td>\n",
       "      <td>...</td>\n",
       "      <td>25.239417</td>\n",
       "      <td>25.479003</td>\n",
       "      <td>25.713686</td>\n",
       "      <td>25.939171</td>\n",
       "      <td>26.155144</td>\n",
       "      <td>26.323940</td>\n",
       "      <td>26.445826</td>\n",
       "      <td>26.590781</td>\n",
       "      <td>26.769253</td>\n",
       "      <td>26.948271</td>\n",
       "    </tr>\n",
       "    <tr>\n",
       "      <th>4</th>\n",
       "      <td>Santa Rosalia</td>\n",
       "      <td>23168</td>\n",
       "      <td>Valid</td>\n",
       "      <td>Pallasite, PMG</td>\n",
       "      <td>1631.0</td>\n",
       "      <td>Found</td>\n",
       "      <td>1950.0</td>\n",
       "      <td>27.33333</td>\n",
       "      <td>-112.33333</td>\n",
       "      <td>Mexico</td>\n",
       "      <td>...</td>\n",
       "      <td>61.795294</td>\n",
       "      <td>62.397078</td>\n",
       "      <td>62.983378</td>\n",
       "      <td>63.582411</td>\n",
       "      <td>64.189415</td>\n",
       "      <td>64.718226</td>\n",
       "      <td>65.151603</td>\n",
       "      <td>65.644123</td>\n",
       "      <td>66.219161</td>\n",
       "      <td>66.791446</td>\n",
       "    </tr>\n",
       "  </tbody>\n",
       "</table>\n",
       "<p>5 rows × 85 columns</p>\n",
       "</div>"
      ],
      "text/plain": [
       "               name     id   type  classification    mass   fall    year  \\\n",
       "0             Haven  11858  Valid              H6  6100.0  Found  1950.0   \n",
       "1         St. Louis  23089  Valid              H4  1000.0   Fell  1950.0   \n",
       "2     Arroyo Aguiar   2340  Valid              H5  7450.0   Fell  1950.0   \n",
       "3  Plainview (1950)  18842  Valid               H  2200.0  Found  1950.0   \n",
       "4     Santa Rosalia  23168  Valid  Pallasite, PMG  1631.0  Found  1950.0   \n",
       "\n",
       "   latitude  longitude        country  ...       2015       2016       2017  \\\n",
       "0  37.96417  -97.75583  United States  ...  25.239417  25.479003  25.713686   \n",
       "1  38.70000  -90.23333  United States  ...  25.239417  25.479003  25.713686   \n",
       "2 -31.41667  -60.66667      Argentina  ...  15.573055  15.724678  15.863864   \n",
       "3  34.11667 -101.78333  United States  ...  25.239417  25.479003  25.713686   \n",
       "4  27.33333 -112.33333         Mexico  ...  61.795294  62.397078  62.983378   \n",
       "\n",
       "        2018       2019       2020       2021       2022       2023       2024  \n",
       "0  25.939171  26.155144  26.323940  26.445826  26.590781  26.769253  26.948271  \n",
       "1  25.939171  26.155144  26.323940  26.445826  26.590781  26.769253  26.948271  \n",
       "2  15.994957  16.109071  16.187335  16.230432  16.264683  16.311426  16.367933  \n",
       "3  25.939171  26.155144  26.323940  26.445826  26.590781  26.769253  26.948271  \n",
       "4  63.582411  64.189415  64.718226  65.151603  65.644123  66.219161  66.791446  \n",
       "\n",
       "[5 rows x 85 columns]"
      ]
     },
     "execution_count": 3,
     "metadata": {},
     "output_type": "execute_result"
    }
   ],
   "source": [
    "df.head()"
   ]
  },
  {
   "cell_type": "code",
   "execution_count": 4,
   "id": "2d20656a-785b-446d-a32e-d9d26e42e8f9",
   "metadata": {},
   "outputs": [],
   "source": [
    "# Convert year to integer\n",
    "df['year'] = df['year'].astype(int)\n",
    "\n",
    "# Extract population density for the year of meteorite landing\n",
    "df['population_density'] = df.apply(\n",
    "    lambda row: row[str(row['year'])] if str(row['year']) in df.columns else None, axis=1\n",
    ")"
   ]
  },
  {
   "cell_type": "code",
   "execution_count": 5,
   "id": "92bc8423-5c99-40a5-aeea-04b677d55bc0",
   "metadata": {},
   "outputs": [],
   "source": [
    "# Encode country as a categorical variable\n",
    "label_encoder = LabelEncoder()\n",
    "df['country_encoded'] = label_encoder.fit_transform(df['country'])"
   ]
  },
  {
   "cell_type": "code",
   "execution_count": 6,
   "id": "b5305cb9-72f1-43c2-96ec-88455b81f633",
   "metadata": {},
   "outputs": [],
   "source": [
    "df['fall_encoded'] = label_encoder.fit_transform(df['fall'])"
   ]
  },
  {
   "cell_type": "code",
   "execution_count": 7,
   "id": "1fe58a20-b4f9-4fb7-8b96-f87c9b1f6a6e",
   "metadata": {},
   "outputs": [],
   "source": [
    "# Drop columns from 1950 to 2024\n",
    "columns_to_drop = [str(year) for year in range(1950, 2025)]\n",
    "df.drop(columns=columns_to_drop, inplace=True)"
   ]
  },
  {
   "cell_type": "code",
   "execution_count": 8,
   "id": "b5ccc5ab-6e59-4fa2-aae7-73a8af09c248",
   "metadata": {},
   "outputs": [
    {
     "data": {
      "text/html": [
       "<div>\n",
       "<style scoped>\n",
       "    .dataframe tbody tr th:only-of-type {\n",
       "        vertical-align: middle;\n",
       "    }\n",
       "\n",
       "    .dataframe tbody tr th {\n",
       "        vertical-align: top;\n",
       "    }\n",
       "\n",
       "    .dataframe thead th {\n",
       "        text-align: right;\n",
       "    }\n",
       "</style>\n",
       "<table border=\"1\" class=\"dataframe\">\n",
       "  <thead>\n",
       "    <tr style=\"text-align: right;\">\n",
       "      <th></th>\n",
       "      <th>name</th>\n",
       "      <th>id</th>\n",
       "      <th>type</th>\n",
       "      <th>classification</th>\n",
       "      <th>mass</th>\n",
       "      <th>fall</th>\n",
       "      <th>year</th>\n",
       "      <th>latitude</th>\n",
       "      <th>longitude</th>\n",
       "      <th>country</th>\n",
       "      <th>population_density</th>\n",
       "      <th>country_encoded</th>\n",
       "      <th>fall_encoded</th>\n",
       "    </tr>\n",
       "  </thead>\n",
       "  <tbody>\n",
       "    <tr>\n",
       "      <th>0</th>\n",
       "      <td>Haven</td>\n",
       "      <td>11858</td>\n",
       "      <td>Valid</td>\n",
       "      <td>H6</td>\n",
       "      <td>6100.0</td>\n",
       "      <td>Found</td>\n",
       "      <td>1950</td>\n",
       "      <td>37.96417</td>\n",
       "      <td>-97.75583</td>\n",
       "      <td>United States</td>\n",
       "      <td>8.628275</td>\n",
       "      <td>91</td>\n",
       "      <td>1</td>\n",
       "    </tr>\n",
       "    <tr>\n",
       "      <th>1</th>\n",
       "      <td>St. Louis</td>\n",
       "      <td>23089</td>\n",
       "      <td>Valid</td>\n",
       "      <td>H4</td>\n",
       "      <td>1000.0</td>\n",
       "      <td>Fell</td>\n",
       "      <td>1950</td>\n",
       "      <td>38.70000</td>\n",
       "      <td>-90.23333</td>\n",
       "      <td>United States</td>\n",
       "      <td>8.628275</td>\n",
       "      <td>91</td>\n",
       "      <td>0</td>\n",
       "    </tr>\n",
       "    <tr>\n",
       "      <th>2</th>\n",
       "      <td>Arroyo Aguiar</td>\n",
       "      <td>2340</td>\n",
       "      <td>Valid</td>\n",
       "      <td>H5</td>\n",
       "      <td>7450.0</td>\n",
       "      <td>Fell</td>\n",
       "      <td>1950</td>\n",
       "      <td>-31.41667</td>\n",
       "      <td>-60.66667</td>\n",
       "      <td>Argentina</td>\n",
       "      <td>6.095700</td>\n",
       "      <td>3</td>\n",
       "      <td>0</td>\n",
       "    </tr>\n",
       "    <tr>\n",
       "      <th>3</th>\n",
       "      <td>Plainview (1950)</td>\n",
       "      <td>18842</td>\n",
       "      <td>Valid</td>\n",
       "      <td>H</td>\n",
       "      <td>2200.0</td>\n",
       "      <td>Found</td>\n",
       "      <td>1950</td>\n",
       "      <td>34.11667</td>\n",
       "      <td>-101.78333</td>\n",
       "      <td>United States</td>\n",
       "      <td>8.628275</td>\n",
       "      <td>91</td>\n",
       "      <td>1</td>\n",
       "    </tr>\n",
       "    <tr>\n",
       "      <th>4</th>\n",
       "      <td>Santa Rosalia</td>\n",
       "      <td>23168</td>\n",
       "      <td>Valid</td>\n",
       "      <td>Pallasite, PMG</td>\n",
       "      <td>1631.0</td>\n",
       "      <td>Found</td>\n",
       "      <td>1950</td>\n",
       "      <td>27.33333</td>\n",
       "      <td>-112.33333</td>\n",
       "      <td>Mexico</td>\n",
       "      <td>14.080882</td>\n",
       "      <td>51</td>\n",
       "      <td>1</td>\n",
       "    </tr>\n",
       "  </tbody>\n",
       "</table>\n",
       "</div>"
      ],
      "text/plain": [
       "               name     id   type  classification    mass   fall  year  \\\n",
       "0             Haven  11858  Valid              H6  6100.0  Found  1950   \n",
       "1         St. Louis  23089  Valid              H4  1000.0   Fell  1950   \n",
       "2     Arroyo Aguiar   2340  Valid              H5  7450.0   Fell  1950   \n",
       "3  Plainview (1950)  18842  Valid               H  2200.0  Found  1950   \n",
       "4     Santa Rosalia  23168  Valid  Pallasite, PMG  1631.0  Found  1950   \n",
       "\n",
       "   latitude  longitude        country  population_density  country_encoded  \\\n",
       "0  37.96417  -97.75583  United States            8.628275               91   \n",
       "1  38.70000  -90.23333  United States            8.628275               91   \n",
       "2 -31.41667  -60.66667      Argentina            6.095700                3   \n",
       "3  34.11667 -101.78333  United States            8.628275               91   \n",
       "4  27.33333 -112.33333         Mexico           14.080882               51   \n",
       "\n",
       "   fall_encoded  \n",
       "0             1  \n",
       "1             0  \n",
       "2             0  \n",
       "3             1  \n",
       "4             1  "
      ]
     },
     "execution_count": 8,
     "metadata": {},
     "output_type": "execute_result"
    }
   ],
   "source": [
    "df.head()"
   ]
  },
  {
   "cell_type": "code",
   "execution_count": 9,
   "id": "1cf1033a-94d6-4c5d-bcf0-7775626130bb",
   "metadata": {},
   "outputs": [],
   "source": [
    "# Create target: count of meteorites found in each country-year combination\n",
    "meteorite_count = df.groupby(['country', 'year']).size().reset_index(name='count')"
   ]
  },
  {
   "cell_type": "code",
   "execution_count": 10,
   "id": "7844b177-c406-4a9e-bfc0-6031c984d065",
   "metadata": {},
   "outputs": [],
   "source": [
    "# Merge count back with original dataset\n",
    "df = pd.merge(df, meteorite_count, on=['country', 'year'], how='left')"
   ]
  },
  {
   "cell_type": "code",
   "execution_count": 11,
   "id": "6a582f23-5329-40dc-a66b-edcafea0a190",
   "metadata": {},
   "outputs": [],
   "source": [
    "# Handle missing population density data (can be filled or dropped)\n",
    "df = df.dropna(subset=['population_density'])"
   ]
  },
  {
   "cell_type": "code",
   "execution_count": 12,
   "id": "ecaccfdf-3d66-4171-8976-0dd141ecebee",
   "metadata": {},
   "outputs": [
    {
     "data": {
      "text/html": [
       "<div>\n",
       "<style scoped>\n",
       "    .dataframe tbody tr th:only-of-type {\n",
       "        vertical-align: middle;\n",
       "    }\n",
       "\n",
       "    .dataframe tbody tr th {\n",
       "        vertical-align: top;\n",
       "    }\n",
       "\n",
       "    .dataframe thead th {\n",
       "        text-align: right;\n",
       "    }\n",
       "</style>\n",
       "<table border=\"1\" class=\"dataframe\">\n",
       "  <thead>\n",
       "    <tr style=\"text-align: right;\">\n",
       "      <th></th>\n",
       "      <th>name</th>\n",
       "      <th>id</th>\n",
       "      <th>type</th>\n",
       "      <th>classification</th>\n",
       "      <th>mass</th>\n",
       "      <th>fall</th>\n",
       "      <th>year</th>\n",
       "      <th>latitude</th>\n",
       "      <th>longitude</th>\n",
       "      <th>country</th>\n",
       "      <th>population_density</th>\n",
       "      <th>country_encoded</th>\n",
       "      <th>fall_encoded</th>\n",
       "      <th>count</th>\n",
       "    </tr>\n",
       "  </thead>\n",
       "  <tbody>\n",
       "    <tr>\n",
       "      <th>0</th>\n",
       "      <td>Haven</td>\n",
       "      <td>11858</td>\n",
       "      <td>Valid</td>\n",
       "      <td>H6</td>\n",
       "      <td>6100.0</td>\n",
       "      <td>Found</td>\n",
       "      <td>1950</td>\n",
       "      <td>37.96417</td>\n",
       "      <td>-97.75583</td>\n",
       "      <td>United States</td>\n",
       "      <td>8.628275</td>\n",
       "      <td>91</td>\n",
       "      <td>1</td>\n",
       "      <td>19</td>\n",
       "    </tr>\n",
       "    <tr>\n",
       "      <th>1</th>\n",
       "      <td>St. Louis</td>\n",
       "      <td>23089</td>\n",
       "      <td>Valid</td>\n",
       "      <td>H4</td>\n",
       "      <td>1000.0</td>\n",
       "      <td>Fell</td>\n",
       "      <td>1950</td>\n",
       "      <td>38.70000</td>\n",
       "      <td>-90.23333</td>\n",
       "      <td>United States</td>\n",
       "      <td>8.628275</td>\n",
       "      <td>91</td>\n",
       "      <td>0</td>\n",
       "      <td>19</td>\n",
       "    </tr>\n",
       "    <tr>\n",
       "      <th>2</th>\n",
       "      <td>Arroyo Aguiar</td>\n",
       "      <td>2340</td>\n",
       "      <td>Valid</td>\n",
       "      <td>H5</td>\n",
       "      <td>7450.0</td>\n",
       "      <td>Fell</td>\n",
       "      <td>1950</td>\n",
       "      <td>-31.41667</td>\n",
       "      <td>-60.66667</td>\n",
       "      <td>Argentina</td>\n",
       "      <td>6.095700</td>\n",
       "      <td>3</td>\n",
       "      <td>0</td>\n",
       "      <td>1</td>\n",
       "    </tr>\n",
       "    <tr>\n",
       "      <th>3</th>\n",
       "      <td>Plainview (1950)</td>\n",
       "      <td>18842</td>\n",
       "      <td>Valid</td>\n",
       "      <td>H</td>\n",
       "      <td>2200.0</td>\n",
       "      <td>Found</td>\n",
       "      <td>1950</td>\n",
       "      <td>34.11667</td>\n",
       "      <td>-101.78333</td>\n",
       "      <td>United States</td>\n",
       "      <td>8.628275</td>\n",
       "      <td>91</td>\n",
       "      <td>1</td>\n",
       "      <td>19</td>\n",
       "    </tr>\n",
       "    <tr>\n",
       "      <th>4</th>\n",
       "      <td>Santa Rosalia</td>\n",
       "      <td>23168</td>\n",
       "      <td>Valid</td>\n",
       "      <td>Pallasite, PMG</td>\n",
       "      <td>1631.0</td>\n",
       "      <td>Found</td>\n",
       "      <td>1950</td>\n",
       "      <td>27.33333</td>\n",
       "      <td>-112.33333</td>\n",
       "      <td>Mexico</td>\n",
       "      <td>14.080882</td>\n",
       "      <td>51</td>\n",
       "      <td>1</td>\n",
       "      <td>2</td>\n",
       "    </tr>\n",
       "  </tbody>\n",
       "</table>\n",
       "</div>"
      ],
      "text/plain": [
       "               name     id   type  classification    mass   fall  year  \\\n",
       "0             Haven  11858  Valid              H6  6100.0  Found  1950   \n",
       "1         St. Louis  23089  Valid              H4  1000.0   Fell  1950   \n",
       "2     Arroyo Aguiar   2340  Valid              H5  7450.0   Fell  1950   \n",
       "3  Plainview (1950)  18842  Valid               H  2200.0  Found  1950   \n",
       "4     Santa Rosalia  23168  Valid  Pallasite, PMG  1631.0  Found  1950   \n",
       "\n",
       "   latitude  longitude        country  population_density  country_encoded  \\\n",
       "0  37.96417  -97.75583  United States            8.628275               91   \n",
       "1  38.70000  -90.23333  United States            8.628275               91   \n",
       "2 -31.41667  -60.66667      Argentina            6.095700                3   \n",
       "3  34.11667 -101.78333  United States            8.628275               91   \n",
       "4  27.33333 -112.33333         Mexico           14.080882               51   \n",
       "\n",
       "   fall_encoded  count  \n",
       "0             1     19  \n",
       "1             0     19  \n",
       "2             0      1  \n",
       "3             1     19  \n",
       "4             1      2  "
      ]
     },
     "execution_count": 12,
     "metadata": {},
     "output_type": "execute_result"
    }
   ],
   "source": [
    "df.head()"
   ]
  },
  {
   "cell_type": "code",
   "execution_count": 13,
   "id": "ba14e330-7c32-4ac9-95da-30378d2b6549",
   "metadata": {},
   "outputs": [],
   "source": [
    "# Define features and target\n",
    "X = df[['year', 'mass', 'fall_encoded', 'latitude', 'longitude', 'country_encoded', 'population_density', 'count']]"
   ]
  },
  {
   "cell_type": "code",
   "execution_count": 14,
   "id": "dc9c8d85-0eae-4f4d-8da1-2b89984b2f28",
   "metadata": {},
   "outputs": [],
   "source": [
    "# Function to split the data based on country and year with at least 'min_test_size' events in total\n",
    "def custom_train_test_split(df, n_splits=1, min_test_size=800):\n",
    "    splits = []\n",
    "    \n",
    "    for _ in range(n_splits):\n",
    "        # Ensure the test set has at least 'min_test_size' events in total\n",
    "        test_data = pd.DataFrame()  # Initialize empty DataFrame for test data\n",
    "        \n",
    "        while len(test_data) < min_test_size:\n",
    "            # Pick a random country and year combination for the test set\n",
    "            test_country = np.random.choice(df['country_encoded'].unique())\n",
    "            test_year = np.random.choice(df[df['country_encoded'] == test_country]['year'].unique())\n",
    "            \n",
    "            # Filter test data for that specific country and year\n",
    "            new_test_data = df[(df['country_encoded'] == test_country) & (df['year'] == test_year)]\n",
    "            \n",
    "            # Add the new data to the test set, avoiding duplicates\n",
    "            test_data = pd.concat([test_data, new_test_data]).drop_duplicates()\n",
    "        \n",
    "        # Filter training data to exclude the test country and year\n",
    "        train_data = df[~df.index.isin(test_data.index)]\n",
    "        \n",
    "        splits.append((train_data, test_data))\n",
    "    \n",
    "    return splits"
   ]
  },
  {
   "cell_type": "code",
   "execution_count": 15,
   "id": "8836a469-f43a-4f18-b1ac-d10bd80fd7e5",
   "metadata": {},
   "outputs": [],
   "source": [
    "# Function to recover features and target from the splits\n",
    "def recover_features_and_target(train_data, test_data, target_column='count'):\n",
    "    # Separate features and target for both train and test\n",
    "    X_train = train_data.drop(columns=[target_column])\n",
    "    y_train = train_data[target_column]\n",
    "    X_test = test_data.drop(columns=[target_column])\n",
    "    y_test = test_data[target_column]\n",
    "    \n",
    "    return X_train, X_test, y_train, y_test"
   ]
  },
  {
   "cell_type": "code",
   "execution_count": 30,
   "id": "24bf6814-f2c8-4dc1-bda3-d9e063c3fae3",
   "metadata": {},
   "outputs": [],
   "source": [
    "splits = custom_train_test_split(X, n_splits=1)"
   ]
  },
  {
   "cell_type": "code",
   "execution_count": 31,
   "id": "cfea465d-e1ee-4b95-83f2-020b53590a26",
   "metadata": {},
   "outputs": [
    {
     "name": "stdout",
     "output_type": "stream",
     "text": [
      "Processing Split 1\n",
      "X_train shape: (6992, 7)\n",
      "X_test shape: (1180, 7)\n",
      "y_train shape: (6992,)\n",
      "y_test shape: (1180,)\n",
      "\n",
      "\n"
     ]
    }
   ],
   "source": [
    "# Example usage for each split:\n",
    "for i, (train, test) in enumerate(splits):\n",
    "    print(f\"Processing Split {i + 1}\")\n",
    "    X_train, X_test, y_train, y_test = recover_features_and_target(train, test, target_column='count')\n",
    "    \n",
    "    # Example: printing the shapes of the datasets\n",
    "    print(f\"X_train shape: {X_train.shape}\")\n",
    "    print(f\"X_test shape: {X_test.shape}\")\n",
    "    print(f\"y_train shape: {y_train.shape}\")\n",
    "    print(f\"y_test shape: {y_test.shape}\")\n",
    "    print(\"\\n\")"
   ]
  },
  {
   "cell_type": "code",
   "execution_count": 32,
   "id": "e1e5af6c-9bf4-44d1-ab8c-943e6a8c793c",
   "metadata": {},
   "outputs": [
    {
     "name": "stdout",
     "output_type": "stream",
     "text": [
      "year                    60\n",
      "mass                  1011\n",
      "fall_encoded             2\n",
      "latitude               927\n",
      "longitude              928\n",
      "country_encoded         93\n",
      "population_density     183\n",
      "dtype: int64\n"
     ]
    }
   ],
   "source": [
    "# Check how many unique values are present in each column\n",
    "unique_values_per_column = X_test.nunique()\n",
    "\n",
    "# Print the result\n",
    "print(unique_values_per_column)"
   ]
  },
  {
   "cell_type": "markdown",
   "id": "17c63c45-b160-41a7-b533-e3a2b94ec14e",
   "metadata": {},
   "source": [
    "# Linear Regression"
   ]
  },
  {
   "cell_type": "code",
   "execution_count": 33,
   "id": "b94c92c6-c6f3-4177-9475-581568078613",
   "metadata": {},
   "outputs": [
    {
     "data": {
      "text/html": [
       "<style>#sk-container-id-3 {color: black;}#sk-container-id-3 pre{padding: 0;}#sk-container-id-3 div.sk-toggleable {background-color: white;}#sk-container-id-3 label.sk-toggleable__label {cursor: pointer;display: block;width: 100%;margin-bottom: 0;padding: 0.3em;box-sizing: border-box;text-align: center;}#sk-container-id-3 label.sk-toggleable__label-arrow:before {content: \"▸\";float: left;margin-right: 0.25em;color: #696969;}#sk-container-id-3 label.sk-toggleable__label-arrow:hover:before {color: black;}#sk-container-id-3 div.sk-estimator:hover label.sk-toggleable__label-arrow:before {color: black;}#sk-container-id-3 div.sk-toggleable__content {max-height: 0;max-width: 0;overflow: hidden;text-align: left;background-color: #f0f8ff;}#sk-container-id-3 div.sk-toggleable__content pre {margin: 0.2em;color: black;border-radius: 0.25em;background-color: #f0f8ff;}#sk-container-id-3 input.sk-toggleable__control:checked~div.sk-toggleable__content {max-height: 200px;max-width: 100%;overflow: auto;}#sk-container-id-3 input.sk-toggleable__control:checked~label.sk-toggleable__label-arrow:before {content: \"▾\";}#sk-container-id-3 div.sk-estimator input.sk-toggleable__control:checked~label.sk-toggleable__label {background-color: #d4ebff;}#sk-container-id-3 div.sk-label input.sk-toggleable__control:checked~label.sk-toggleable__label {background-color: #d4ebff;}#sk-container-id-3 input.sk-hidden--visually {border: 0;clip: rect(1px 1px 1px 1px);clip: rect(1px, 1px, 1px, 1px);height: 1px;margin: -1px;overflow: hidden;padding: 0;position: absolute;width: 1px;}#sk-container-id-3 div.sk-estimator {font-family: monospace;background-color: #f0f8ff;border: 1px dotted black;border-radius: 0.25em;box-sizing: border-box;margin-bottom: 0.5em;}#sk-container-id-3 div.sk-estimator:hover {background-color: #d4ebff;}#sk-container-id-3 div.sk-parallel-item::after {content: \"\";width: 100%;border-bottom: 1px solid gray;flex-grow: 1;}#sk-container-id-3 div.sk-label:hover label.sk-toggleable__label {background-color: #d4ebff;}#sk-container-id-3 div.sk-serial::before {content: \"\";position: absolute;border-left: 1px solid gray;box-sizing: border-box;top: 0;bottom: 0;left: 50%;z-index: 0;}#sk-container-id-3 div.sk-serial {display: flex;flex-direction: column;align-items: center;background-color: white;padding-right: 0.2em;padding-left: 0.2em;position: relative;}#sk-container-id-3 div.sk-item {position: relative;z-index: 1;}#sk-container-id-3 div.sk-parallel {display: flex;align-items: stretch;justify-content: center;background-color: white;position: relative;}#sk-container-id-3 div.sk-item::before, #sk-container-id-3 div.sk-parallel-item::before {content: \"\";position: absolute;border-left: 1px solid gray;box-sizing: border-box;top: 0;bottom: 0;left: 50%;z-index: -1;}#sk-container-id-3 div.sk-parallel-item {display: flex;flex-direction: column;z-index: 1;position: relative;background-color: white;}#sk-container-id-3 div.sk-parallel-item:first-child::after {align-self: flex-end;width: 50%;}#sk-container-id-3 div.sk-parallel-item:last-child::after {align-self: flex-start;width: 50%;}#sk-container-id-3 div.sk-parallel-item:only-child::after {width: 0;}#sk-container-id-3 div.sk-dashed-wrapped {border: 1px dashed gray;margin: 0 0.4em 0.5em 0.4em;box-sizing: border-box;padding-bottom: 0.4em;background-color: white;}#sk-container-id-3 div.sk-label label {font-family: monospace;font-weight: bold;display: inline-block;line-height: 1.2em;}#sk-container-id-3 div.sk-label-container {text-align: center;}#sk-container-id-3 div.sk-container {/* jupyter's `normalize.less` sets `[hidden] { display: none; }` but bootstrap.min.css set `[hidden] { display: none !important; }` so we also need the `!important` here to be able to override the default hidden behavior on the sphinx rendered scikit-learn.org. See: https://github.com/scikit-learn/scikit-learn/issues/21755 */display: inline-block !important;position: relative;}#sk-container-id-3 div.sk-text-repr-fallback {display: none;}</style><div id=\"sk-container-id-3\" class=\"sk-top-container\"><div class=\"sk-text-repr-fallback\"><pre>LinearRegression()</pre><b>In a Jupyter environment, please rerun this cell to show the HTML representation or trust the notebook. <br />On GitHub, the HTML representation is unable to render, please try loading this page with nbviewer.org.</b></div><div class=\"sk-container\" hidden><div class=\"sk-item\"><div class=\"sk-estimator sk-toggleable\"><input class=\"sk-toggleable__control sk-hidden--visually\" id=\"sk-estimator-id-3\" type=\"checkbox\" checked><label for=\"sk-estimator-id-3\" class=\"sk-toggleable__label sk-toggleable__label-arrow\">LinearRegression</label><div class=\"sk-toggleable__content\"><pre>LinearRegression()</pre></div></div></div></div></div>"
      ],
      "text/plain": [
       "LinearRegression()"
      ]
     },
     "execution_count": 33,
     "metadata": {},
     "output_type": "execute_result"
    }
   ],
   "source": [
    "# Linear Regression Model\n",
    "lr = LinearRegression()\n",
    "lr.fit(X_train, y_train)"
   ]
  },
  {
   "cell_type": "code",
   "execution_count": 34,
   "id": "926a10a9-0028-4838-b837-2f5fffa903cf",
   "metadata": {},
   "outputs": [],
   "source": [
    "# Predict on test set\n",
    "y_pred_lr = lr.predict(X_test)"
   ]
  },
  {
   "cell_type": "code",
   "execution_count": 35,
   "id": "d0d850b7-9cbb-437a-8944-57d0f7e73b67",
   "metadata": {},
   "outputs": [
    {
     "name": "stdout",
     "output_type": "stream",
     "text": [
      "Linear Regression Mean Squared Error: 18387.39283312726\n"
     ]
    }
   ],
   "source": [
    "# Evaluate model\n",
    "mse_lr = mean_squared_error(y_test, y_pred_lr)\n",
    "print(f\"Linear Regression Mean Squared Error: {mse_lr}\")"
   ]
  },
  {
   "cell_type": "markdown",
   "id": "9fcab2c0-6004-4ea0-a1b3-3a3d7416b3b5",
   "metadata": {},
   "source": [
    "# Random Forest"
   ]
  },
  {
   "cell_type": "code",
   "execution_count": 36,
   "id": "5ce906f8-3cf1-499a-90ae-cb0c1bf2e6a8",
   "metadata": {},
   "outputs": [
    {
     "data": {
      "text/html": [
       "<style>#sk-container-id-4 {color: black;}#sk-container-id-4 pre{padding: 0;}#sk-container-id-4 div.sk-toggleable {background-color: white;}#sk-container-id-4 label.sk-toggleable__label {cursor: pointer;display: block;width: 100%;margin-bottom: 0;padding: 0.3em;box-sizing: border-box;text-align: center;}#sk-container-id-4 label.sk-toggleable__label-arrow:before {content: \"▸\";float: left;margin-right: 0.25em;color: #696969;}#sk-container-id-4 label.sk-toggleable__label-arrow:hover:before {color: black;}#sk-container-id-4 div.sk-estimator:hover label.sk-toggleable__label-arrow:before {color: black;}#sk-container-id-4 div.sk-toggleable__content {max-height: 0;max-width: 0;overflow: hidden;text-align: left;background-color: #f0f8ff;}#sk-container-id-4 div.sk-toggleable__content pre {margin: 0.2em;color: black;border-radius: 0.25em;background-color: #f0f8ff;}#sk-container-id-4 input.sk-toggleable__control:checked~div.sk-toggleable__content {max-height: 200px;max-width: 100%;overflow: auto;}#sk-container-id-4 input.sk-toggleable__control:checked~label.sk-toggleable__label-arrow:before {content: \"▾\";}#sk-container-id-4 div.sk-estimator input.sk-toggleable__control:checked~label.sk-toggleable__label {background-color: #d4ebff;}#sk-container-id-4 div.sk-label input.sk-toggleable__control:checked~label.sk-toggleable__label {background-color: #d4ebff;}#sk-container-id-4 input.sk-hidden--visually {border: 0;clip: rect(1px 1px 1px 1px);clip: rect(1px, 1px, 1px, 1px);height: 1px;margin: -1px;overflow: hidden;padding: 0;position: absolute;width: 1px;}#sk-container-id-4 div.sk-estimator {font-family: monospace;background-color: #f0f8ff;border: 1px dotted black;border-radius: 0.25em;box-sizing: border-box;margin-bottom: 0.5em;}#sk-container-id-4 div.sk-estimator:hover {background-color: #d4ebff;}#sk-container-id-4 div.sk-parallel-item::after {content: \"\";width: 100%;border-bottom: 1px solid gray;flex-grow: 1;}#sk-container-id-4 div.sk-label:hover label.sk-toggleable__label {background-color: #d4ebff;}#sk-container-id-4 div.sk-serial::before {content: \"\";position: absolute;border-left: 1px solid gray;box-sizing: border-box;top: 0;bottom: 0;left: 50%;z-index: 0;}#sk-container-id-4 div.sk-serial {display: flex;flex-direction: column;align-items: center;background-color: white;padding-right: 0.2em;padding-left: 0.2em;position: relative;}#sk-container-id-4 div.sk-item {position: relative;z-index: 1;}#sk-container-id-4 div.sk-parallel {display: flex;align-items: stretch;justify-content: center;background-color: white;position: relative;}#sk-container-id-4 div.sk-item::before, #sk-container-id-4 div.sk-parallel-item::before {content: \"\";position: absolute;border-left: 1px solid gray;box-sizing: border-box;top: 0;bottom: 0;left: 50%;z-index: -1;}#sk-container-id-4 div.sk-parallel-item {display: flex;flex-direction: column;z-index: 1;position: relative;background-color: white;}#sk-container-id-4 div.sk-parallel-item:first-child::after {align-self: flex-end;width: 50%;}#sk-container-id-4 div.sk-parallel-item:last-child::after {align-self: flex-start;width: 50%;}#sk-container-id-4 div.sk-parallel-item:only-child::after {width: 0;}#sk-container-id-4 div.sk-dashed-wrapped {border: 1px dashed gray;margin: 0 0.4em 0.5em 0.4em;box-sizing: border-box;padding-bottom: 0.4em;background-color: white;}#sk-container-id-4 div.sk-label label {font-family: monospace;font-weight: bold;display: inline-block;line-height: 1.2em;}#sk-container-id-4 div.sk-label-container {text-align: center;}#sk-container-id-4 div.sk-container {/* jupyter's `normalize.less` sets `[hidden] { display: none; }` but bootstrap.min.css set `[hidden] { display: none !important; }` so we also need the `!important` here to be able to override the default hidden behavior on the sphinx rendered scikit-learn.org. See: https://github.com/scikit-learn/scikit-learn/issues/21755 */display: inline-block !important;position: relative;}#sk-container-id-4 div.sk-text-repr-fallback {display: none;}</style><div id=\"sk-container-id-4\" class=\"sk-top-container\"><div class=\"sk-text-repr-fallback\"><pre>RandomForestRegressor(random_state=42)</pre><b>In a Jupyter environment, please rerun this cell to show the HTML representation or trust the notebook. <br />On GitHub, the HTML representation is unable to render, please try loading this page with nbviewer.org.</b></div><div class=\"sk-container\" hidden><div class=\"sk-item\"><div class=\"sk-estimator sk-toggleable\"><input class=\"sk-toggleable__control sk-hidden--visually\" id=\"sk-estimator-id-4\" type=\"checkbox\" checked><label for=\"sk-estimator-id-4\" class=\"sk-toggleable__label sk-toggleable__label-arrow\">RandomForestRegressor</label><div class=\"sk-toggleable__content\"><pre>RandomForestRegressor(random_state=42)</pre></div></div></div></div></div>"
      ],
      "text/plain": [
       "RandomForestRegressor(random_state=42)"
      ]
     },
     "execution_count": 36,
     "metadata": {},
     "output_type": "execute_result"
    }
   ],
   "source": [
    "# Random Forest Regressor Model\n",
    "rf = RandomForestRegressor(n_estimators=100, random_state=42)\n",
    "rf.fit(X_train, y_train)"
   ]
  },
  {
   "cell_type": "code",
   "execution_count": 37,
   "id": "657c01d1-ab1b-413c-8019-fa33822c37d6",
   "metadata": {},
   "outputs": [],
   "source": [
    "# Predict on test set\n",
    "y_pred_rf = rf.predict(X_test)"
   ]
  },
  {
   "cell_type": "code",
   "execution_count": 38,
   "id": "f6451222-4aef-4797-8f9a-a39801a344be",
   "metadata": {},
   "outputs": [
    {
     "name": "stdout",
     "output_type": "stream",
     "text": [
      "Random Forest Mean Squared Error: 6367.599964406779\n"
     ]
    }
   ],
   "source": [
    "# Evaluate model\n",
    "mse_rf = mean_squared_error(y_test, y_pred_rf)\n",
    "print(f\"Random Forest Mean Squared Error: {mse_rf}\")"
   ]
  },
  {
   "cell_type": "markdown",
   "id": "a53aefe4-e79b-4a4f-ac5e-cc2a3ca951b5",
   "metadata": {},
   "source": [
    "# Mixed effect Model"
   ]
  },
  {
   "cell_type": "code",
   "execution_count": 39,
   "id": "01590bc5-77c9-43cb-b4c4-5023dfc6e61f",
   "metadata": {},
   "outputs": [],
   "source": [
    "import statsmodels.api as sm\n",
    "import statsmodels.formula.api as smf"
   ]
  },
  {
   "cell_type": "code",
   "execution_count": 90,
   "id": "52525166-59b9-4c74-a861-213692968dfa",
   "metadata": {},
   "outputs": [],
   "source": [
    "# Fit the Mixed Effects Model with count as target\n",
    "mixed_model = smf.mixedlm(\"count ~ year + population_density\", X, groups=X[\"country_encoded\"])\n",
    "mixed_model_fitted = mixed_model.fit()"
   ]
  },
  {
   "cell_type": "code",
   "execution_count": 91,
   "id": "1a76ea45-2cc9-48da-b043-1577e89f1c5d",
   "metadata": {},
   "outputs": [
    {
     "name": "stdout",
     "output_type": "stream",
     "text": [
      "               Mixed Linear Model Regression Results\n",
      "===================================================================\n",
      "Model:                MixedLM    Dependent Variable:    count      \n",
      "No. Observations:     8172       Method:                REML       \n",
      "No. Groups:           96         Scale:                 14210.3680 \n",
      "Min. group size:      1          Log-Likelihood:        -50721.4699\n",
      "Max. group size:      2992       Converged:             Yes        \n",
      "Mean group size:      85.1                                         \n",
      "-------------------------------------------------------------------\n",
      "                    Coef.   Std.Err.   z    P>|z|  [0.025   0.975] \n",
      "-------------------------------------------------------------------\n",
      "Intercept          2004.374  286.499  6.996 0.000 1442.846 2565.903\n",
      "year                 -0.998    0.145 -6.871 0.000   -1.282   -0.713\n",
      "population_density   -0.043    0.100 -0.427 0.669   -0.239    0.154\n",
      "Group Var          3895.307    6.035                               \n",
      "===================================================================\n",
      "\n"
     ]
    }
   ],
   "source": [
    "# Print model summary\n",
    "print(mixed_model_fitted.summary())"
   ]
  },
  {
   "cell_type": "code",
   "execution_count": 92,
   "id": "c1ae4434-5795-46a8-96f4-2d257da64cee",
   "metadata": {},
   "outputs": [],
   "source": [
    "# Now, let's predict the number of meteorites for the test set\n",
    "# We need to make predictions on the test set by using the fitted model\n",
    "X_test['predicted_count'] = mixed_model_fitted.predict(X_test)"
   ]
  },
  {
   "cell_type": "code",
   "execution_count": 93,
   "id": "a73e58f0-76a5-4da3-8f0c-94c60b60a3db",
   "metadata": {},
   "outputs": [
    {
     "name": "stdout",
     "output_type": "stream",
     "text": [
      "Mixed Effect Model Mean Squared Error: 56577.23958635178\n"
     ]
    }
   ],
   "source": [
    "# Evaluate the predicted counts\n",
    "from sklearn.metrics import mean_squared_error\n",
    "mse_mixed = mean_squared_error(y_test, X_test['predicted_count'])\n",
    "print(f\"Mixed Effect Model Mean Squared Error: {mse_mixed}\")"
   ]
  },
  {
   "cell_type": "markdown",
   "id": "69092410-8b28-4de9-97f7-af7a65f9435f",
   "metadata": {},
   "source": [
    "# Just Fell"
   ]
  },
  {
   "cell_type": "code",
   "execution_count": 47,
   "id": "45a10263-cc2b-44f8-b2f5-0e24317db474",
   "metadata": {},
   "outputs": [],
   "source": [
    "# Filter the DataFrame to only include rows where \"fall\" == \"fell\"\n",
    "filtered_df = df[df['fall'] == 'Fell']"
   ]
  },
  {
   "cell_type": "code",
   "execution_count": 48,
   "id": "e288a88b-8614-4a88-9c99-3547b08ba76c",
   "metadata": {},
   "outputs": [
    {
     "data": {
      "text/html": [
       "<div>\n",
       "<style scoped>\n",
       "    .dataframe tbody tr th:only-of-type {\n",
       "        vertical-align: middle;\n",
       "    }\n",
       "\n",
       "    .dataframe tbody tr th {\n",
       "        vertical-align: top;\n",
       "    }\n",
       "\n",
       "    .dataframe thead th {\n",
       "        text-align: right;\n",
       "    }\n",
       "</style>\n",
       "<table border=\"1\" class=\"dataframe\">\n",
       "  <thead>\n",
       "    <tr style=\"text-align: right;\">\n",
       "      <th></th>\n",
       "      <th>name</th>\n",
       "      <th>id</th>\n",
       "      <th>type</th>\n",
       "      <th>classification</th>\n",
       "      <th>mass</th>\n",
       "      <th>fall</th>\n",
       "      <th>year</th>\n",
       "      <th>latitude</th>\n",
       "      <th>longitude</th>\n",
       "      <th>country</th>\n",
       "      <th>population_density</th>\n",
       "      <th>country_encoded</th>\n",
       "      <th>fall_encoded</th>\n",
       "      <th>count</th>\n",
       "    </tr>\n",
       "  </thead>\n",
       "  <tbody>\n",
       "    <tr>\n",
       "      <th>1</th>\n",
       "      <td>St. Louis</td>\n",
       "      <td>23089</td>\n",
       "      <td>Valid</td>\n",
       "      <td>H4</td>\n",
       "      <td>1000.0</td>\n",
       "      <td>Fell</td>\n",
       "      <td>1950</td>\n",
       "      <td>38.70000</td>\n",
       "      <td>-90.23333</td>\n",
       "      <td>United States</td>\n",
       "      <td>8.628275</td>\n",
       "      <td>91</td>\n",
       "      <td>0</td>\n",
       "      <td>19</td>\n",
       "    </tr>\n",
       "    <tr>\n",
       "      <th>2</th>\n",
       "      <td>Arroyo Aguiar</td>\n",
       "      <td>2340</td>\n",
       "      <td>Valid</td>\n",
       "      <td>H5</td>\n",
       "      <td>7450.0</td>\n",
       "      <td>Fell</td>\n",
       "      <td>1950</td>\n",
       "      <td>-31.41667</td>\n",
       "      <td>-60.66667</td>\n",
       "      <td>Argentina</td>\n",
       "      <td>6.095700</td>\n",
       "      <td>3</td>\n",
       "      <td>0</td>\n",
       "      <td>1</td>\n",
       "    </tr>\n",
       "    <tr>\n",
       "      <th>5</th>\n",
       "      <td>Vengerovo</td>\n",
       "      <td>24158</td>\n",
       "      <td>Valid</td>\n",
       "      <td>H5</td>\n",
       "      <td>10800.0</td>\n",
       "      <td>Fell</td>\n",
       "      <td>1950</td>\n",
       "      <td>56.13333</td>\n",
       "      <td>77.26667</td>\n",
       "      <td>Russia</td>\n",
       "      <td>6.313780</td>\n",
       "      <td>69</td>\n",
       "      <td>0</td>\n",
       "      <td>1</td>\n",
       "    </tr>\n",
       "    <tr>\n",
       "      <th>6</th>\n",
       "      <td>Monte das Fortes</td>\n",
       "      <td>16725</td>\n",
       "      <td>Valid</td>\n",
       "      <td>L5</td>\n",
       "      <td>4885.0</td>\n",
       "      <td>Fell</td>\n",
       "      <td>1950</td>\n",
       "      <td>38.01667</td>\n",
       "      <td>-8.25000</td>\n",
       "      <td>Portugal</td>\n",
       "      <td>91.524450</td>\n",
       "      <td>66</td>\n",
       "      <td>0</td>\n",
       "      <td>1</td>\n",
       "    </tr>\n",
       "    <tr>\n",
       "      <th>15</th>\n",
       "      <td>Madhipura</td>\n",
       "      <td>15379</td>\n",
       "      <td>Valid</td>\n",
       "      <td>L</td>\n",
       "      <td>1000.0</td>\n",
       "      <td>Fell</td>\n",
       "      <td>1950</td>\n",
       "      <td>25.91667</td>\n",
       "      <td>86.36667</td>\n",
       "      <td>India</td>\n",
       "      <td>116.467101</td>\n",
       "      <td>34</td>\n",
       "      <td>0</td>\n",
       "      <td>1</td>\n",
       "    </tr>\n",
       "    <tr>\n",
       "      <th>...</th>\n",
       "      <td>...</td>\n",
       "      <td>...</td>\n",
       "      <td>...</td>\n",
       "      <td>...</td>\n",
       "      <td>...</td>\n",
       "      <td>...</td>\n",
       "      <td>...</td>\n",
       "      <td>...</td>\n",
       "      <td>...</td>\n",
       "      <td>...</td>\n",
       "      <td>...</td>\n",
       "      <td>...</td>\n",
       "      <td>...</td>\n",
       "      <td>...</td>\n",
       "    </tr>\n",
       "    <tr>\n",
       "      <th>35524</th>\n",
       "      <td>Sołtmany</td>\n",
       "      <td>53829</td>\n",
       "      <td>Valid</td>\n",
       "      <td>L6</td>\n",
       "      <td>1066.0</td>\n",
       "      <td>Fell</td>\n",
       "      <td>2011</td>\n",
       "      <td>54.00883</td>\n",
       "      <td>22.00500</td>\n",
       "      <td>Poland</td>\n",
       "      <td>124.785732</td>\n",
       "      <td>65</td>\n",
       "      <td>0</td>\n",
       "      <td>1</td>\n",
       "    </tr>\n",
       "    <tr>\n",
       "      <th>35595</th>\n",
       "      <td>Boumdeid (2011)</td>\n",
       "      <td>57167</td>\n",
       "      <td>Valid</td>\n",
       "      <td>L6</td>\n",
       "      <td>3599.0</td>\n",
       "      <td>Fell</td>\n",
       "      <td>2011</td>\n",
       "      <td>17.17493</td>\n",
       "      <td>-11.34133</td>\n",
       "      <td>Mauritania</td>\n",
       "      <td>3.398478</td>\n",
       "      <td>50</td>\n",
       "      <td>0</td>\n",
       "      <td>1</td>\n",
       "    </tr>\n",
       "    <tr>\n",
       "      <th>36217</th>\n",
       "      <td>Battle Mountain</td>\n",
       "      <td>56133</td>\n",
       "      <td>Valid</td>\n",
       "      <td>L6</td>\n",
       "      <td>2900.0</td>\n",
       "      <td>Fell</td>\n",
       "      <td>2012</td>\n",
       "      <td>40.66813</td>\n",
       "      <td>-117.18913</td>\n",
       "      <td>United States</td>\n",
       "      <td>24.506701</td>\n",
       "      <td>91</td>\n",
       "      <td>0</td>\n",
       "      <td>8</td>\n",
       "    </tr>\n",
       "    <tr>\n",
       "      <th>36257</th>\n",
       "      <td>Sutter's Mill</td>\n",
       "      <td>55529</td>\n",
       "      <td>Valid</td>\n",
       "      <td>C</td>\n",
       "      <td>992.5</td>\n",
       "      <td>Fell</td>\n",
       "      <td>2012</td>\n",
       "      <td>38.80389</td>\n",
       "      <td>-120.90806</td>\n",
       "      <td>United States</td>\n",
       "      <td>24.506701</td>\n",
       "      <td>91</td>\n",
       "      <td>0</td>\n",
       "      <td>8</td>\n",
       "    </tr>\n",
       "    <tr>\n",
       "      <th>36448</th>\n",
       "      <td>Chelyabinsk</td>\n",
       "      <td>57165</td>\n",
       "      <td>Valid</td>\n",
       "      <td>LL5</td>\n",
       "      <td>100000.0</td>\n",
       "      <td>Fell</td>\n",
       "      <td>2013</td>\n",
       "      <td>54.81667</td>\n",
       "      <td>61.11667</td>\n",
       "      <td>Russia</td>\n",
       "      <td>8.830425</td>\n",
       "      <td>69</td>\n",
       "      <td>0</td>\n",
       "      <td>1</td>\n",
       "    </tr>\n",
       "  </tbody>\n",
       "</table>\n",
       "<p>350 rows × 14 columns</p>\n",
       "</div>"
      ],
      "text/plain": [
       "                   name     id   type classification      mass  fall  year  \\\n",
       "1             St. Louis  23089  Valid             H4    1000.0  Fell  1950   \n",
       "2         Arroyo Aguiar   2340  Valid             H5    7450.0  Fell  1950   \n",
       "5             Vengerovo  24158  Valid             H5   10800.0  Fell  1950   \n",
       "6      Monte das Fortes  16725  Valid             L5    4885.0  Fell  1950   \n",
       "15            Madhipura  15379  Valid              L    1000.0  Fell  1950   \n",
       "...                 ...    ...    ...            ...       ...   ...   ...   \n",
       "35524          Sołtmany  53829  Valid             L6    1066.0  Fell  2011   \n",
       "35595   Boumdeid (2011)  57167  Valid             L6    3599.0  Fell  2011   \n",
       "36217   Battle Mountain  56133  Valid             L6    2900.0  Fell  2012   \n",
       "36257     Sutter's Mill  55529  Valid              C     992.5  Fell  2012   \n",
       "36448       Chelyabinsk  57165  Valid            LL5  100000.0  Fell  2013   \n",
       "\n",
       "       latitude  longitude        country  population_density  \\\n",
       "1      38.70000  -90.23333  United States            8.628275   \n",
       "2     -31.41667  -60.66667      Argentina            6.095700   \n",
       "5      56.13333   77.26667         Russia            6.313780   \n",
       "6      38.01667   -8.25000       Portugal           91.524450   \n",
       "15     25.91667   86.36667          India          116.467101   \n",
       "...         ...        ...            ...                 ...   \n",
       "35524  54.00883   22.00500         Poland          124.785732   \n",
       "35595  17.17493  -11.34133     Mauritania            3.398478   \n",
       "36217  40.66813 -117.18913  United States           24.506701   \n",
       "36257  38.80389 -120.90806  United States           24.506701   \n",
       "36448  54.81667   61.11667         Russia            8.830425   \n",
       "\n",
       "       country_encoded  fall_encoded  count  \n",
       "1                   91             0     19  \n",
       "2                    3             0      1  \n",
       "5                   69             0      1  \n",
       "6                   66             0      1  \n",
       "15                  34             0      1  \n",
       "...                ...           ...    ...  \n",
       "35524               65             0      1  \n",
       "35595               50             0      1  \n",
       "36217               91             0      8  \n",
       "36257               91             0      8  \n",
       "36448               69             0      1  \n",
       "\n",
       "[350 rows x 14 columns]"
      ]
     },
     "execution_count": 48,
     "metadata": {},
     "output_type": "execute_result"
    }
   ],
   "source": [
    "filtered_df"
   ]
  },
  {
   "cell_type": "code",
   "execution_count": 67,
   "id": "d38fb6c5-b9b0-44f9-8cf8-9237b194dee5",
   "metadata": {},
   "outputs": [],
   "source": [
    "# Define features and target\n",
    "X_fell = filtered_df[['year', 'mass', 'latitude', 'longitude', 'country_encoded', 'population_density', 'count']]"
   ]
  },
  {
   "cell_type": "code",
   "execution_count": 80,
   "id": "1e1e787b-883b-4638-a7f8-9bee1953c737",
   "metadata": {},
   "outputs": [],
   "source": [
    "splits_fell = custom_train_test_split(X_fell, n_splits=1, min_test_size = 25 )"
   ]
  },
  {
   "cell_type": "code",
   "execution_count": 81,
   "id": "0fdd4d94-01ed-4fa0-b04d-5b0454d72f2d",
   "metadata": {},
   "outputs": [
    {
     "name": "stdout",
     "output_type": "stream",
     "text": [
      "Processing Split 1\n",
      "X_train shape: (325, 6)\n",
      "X_test shape: (25, 6)\n",
      "y_train shape: (325,)\n",
      "y_test shape: (25,)\n",
      "\n",
      "\n"
     ]
    }
   ],
   "source": [
    "# Example usage for each split:\n",
    "for i, (train_fell, test_fell) in enumerate(splits_fell):\n",
    "    print(f\"Processing Split {i + 1}\")\n",
    "    X_train_fell, X_test_fell, y_train_fell, y_test_fell = recover_features_and_target(train, test, target_column='count')\n",
    "    \n",
    "    # Example: printing the shapes of the datasets\n",
    "    print(f\"X_train shape: {X_train_fell.shape}\")\n",
    "    print(f\"X_test shape: {X_test_fell.shape}\")\n",
    "    print(f\"y_train shape: {y_train_fell.shape}\")\n",
    "    print(f\"y_test shape: {y_test_fell.shape}\")\n",
    "    print(\"\\n\")"
   ]
  },
  {
   "cell_type": "code",
   "execution_count": 82,
   "id": "4bc448bc-48f5-45aa-8027-dd20dcb8d057",
   "metadata": {},
   "outputs": [
    {
     "name": "stdout",
     "output_type": "stream",
     "text": [
      "year                  17\n",
      "mass                  24\n",
      "latitude              25\n",
      "longitude             25\n",
      "country_encoded       22\n",
      "population_density    24\n",
      "dtype: int64\n"
     ]
    }
   ],
   "source": [
    "# Check how many unique values are present in each column\n",
    "unique_values_per_column = X_test_fell.nunique()\n",
    "\n",
    "# Print the result\n",
    "print(unique_values_per_column)"
   ]
  },
  {
   "cell_type": "markdown",
   "id": "b9e52a17-c2f2-4a78-9087-d493b4d4e7f2",
   "metadata": {},
   "source": [
    "## Linear Regression"
   ]
  },
  {
   "cell_type": "code",
   "execution_count": 83,
   "id": "21a946db-5a84-4870-8a6a-3870b038f6e7",
   "metadata": {},
   "outputs": [
    {
     "data": {
      "text/html": [
       "<style>#sk-container-id-8 {color: black;}#sk-container-id-8 pre{padding: 0;}#sk-container-id-8 div.sk-toggleable {background-color: white;}#sk-container-id-8 label.sk-toggleable__label {cursor: pointer;display: block;width: 100%;margin-bottom: 0;padding: 0.3em;box-sizing: border-box;text-align: center;}#sk-container-id-8 label.sk-toggleable__label-arrow:before {content: \"▸\";float: left;margin-right: 0.25em;color: #696969;}#sk-container-id-8 label.sk-toggleable__label-arrow:hover:before {color: black;}#sk-container-id-8 div.sk-estimator:hover label.sk-toggleable__label-arrow:before {color: black;}#sk-container-id-8 div.sk-toggleable__content {max-height: 0;max-width: 0;overflow: hidden;text-align: left;background-color: #f0f8ff;}#sk-container-id-8 div.sk-toggleable__content pre {margin: 0.2em;color: black;border-radius: 0.25em;background-color: #f0f8ff;}#sk-container-id-8 input.sk-toggleable__control:checked~div.sk-toggleable__content {max-height: 200px;max-width: 100%;overflow: auto;}#sk-container-id-8 input.sk-toggleable__control:checked~label.sk-toggleable__label-arrow:before {content: \"▾\";}#sk-container-id-8 div.sk-estimator input.sk-toggleable__control:checked~label.sk-toggleable__label {background-color: #d4ebff;}#sk-container-id-8 div.sk-label input.sk-toggleable__control:checked~label.sk-toggleable__label {background-color: #d4ebff;}#sk-container-id-8 input.sk-hidden--visually {border: 0;clip: rect(1px 1px 1px 1px);clip: rect(1px, 1px, 1px, 1px);height: 1px;margin: -1px;overflow: hidden;padding: 0;position: absolute;width: 1px;}#sk-container-id-8 div.sk-estimator {font-family: monospace;background-color: #f0f8ff;border: 1px dotted black;border-radius: 0.25em;box-sizing: border-box;margin-bottom: 0.5em;}#sk-container-id-8 div.sk-estimator:hover {background-color: #d4ebff;}#sk-container-id-8 div.sk-parallel-item::after {content: \"\";width: 100%;border-bottom: 1px solid gray;flex-grow: 1;}#sk-container-id-8 div.sk-label:hover label.sk-toggleable__label {background-color: #d4ebff;}#sk-container-id-8 div.sk-serial::before {content: \"\";position: absolute;border-left: 1px solid gray;box-sizing: border-box;top: 0;bottom: 0;left: 50%;z-index: 0;}#sk-container-id-8 div.sk-serial {display: flex;flex-direction: column;align-items: center;background-color: white;padding-right: 0.2em;padding-left: 0.2em;position: relative;}#sk-container-id-8 div.sk-item {position: relative;z-index: 1;}#sk-container-id-8 div.sk-parallel {display: flex;align-items: stretch;justify-content: center;background-color: white;position: relative;}#sk-container-id-8 div.sk-item::before, #sk-container-id-8 div.sk-parallel-item::before {content: \"\";position: absolute;border-left: 1px solid gray;box-sizing: border-box;top: 0;bottom: 0;left: 50%;z-index: -1;}#sk-container-id-8 div.sk-parallel-item {display: flex;flex-direction: column;z-index: 1;position: relative;background-color: white;}#sk-container-id-8 div.sk-parallel-item:first-child::after {align-self: flex-end;width: 50%;}#sk-container-id-8 div.sk-parallel-item:last-child::after {align-self: flex-start;width: 50%;}#sk-container-id-8 div.sk-parallel-item:only-child::after {width: 0;}#sk-container-id-8 div.sk-dashed-wrapped {border: 1px dashed gray;margin: 0 0.4em 0.5em 0.4em;box-sizing: border-box;padding-bottom: 0.4em;background-color: white;}#sk-container-id-8 div.sk-label label {font-family: monospace;font-weight: bold;display: inline-block;line-height: 1.2em;}#sk-container-id-8 div.sk-label-container {text-align: center;}#sk-container-id-8 div.sk-container {/* jupyter's `normalize.less` sets `[hidden] { display: none; }` but bootstrap.min.css set `[hidden] { display: none !important; }` so we also need the `!important` here to be able to override the default hidden behavior on the sphinx rendered scikit-learn.org. See: https://github.com/scikit-learn/scikit-learn/issues/21755 */display: inline-block !important;position: relative;}#sk-container-id-8 div.sk-text-repr-fallback {display: none;}</style><div id=\"sk-container-id-8\" class=\"sk-top-container\"><div class=\"sk-text-repr-fallback\"><pre>LinearRegression()</pre><b>In a Jupyter environment, please rerun this cell to show the HTML representation or trust the notebook. <br />On GitHub, the HTML representation is unable to render, please try loading this page with nbviewer.org.</b></div><div class=\"sk-container\" hidden><div class=\"sk-item\"><div class=\"sk-estimator sk-toggleable\"><input class=\"sk-toggleable__control sk-hidden--visually\" id=\"sk-estimator-id-8\" type=\"checkbox\" checked><label for=\"sk-estimator-id-8\" class=\"sk-toggleable__label sk-toggleable__label-arrow\">LinearRegression</label><div class=\"sk-toggleable__content\"><pre>LinearRegression()</pre></div></div></div></div></div>"
      ],
      "text/plain": [
       "LinearRegression()"
      ]
     },
     "execution_count": 83,
     "metadata": {},
     "output_type": "execute_result"
    }
   ],
   "source": [
    "# Linear Regression Model\n",
    "lr_fell = LinearRegression()\n",
    "lr_fell.fit(X_train_fell, y_train_fell)"
   ]
  },
  {
   "cell_type": "code",
   "execution_count": 84,
   "id": "8347b39c-5d1f-4909-b9c3-cf75d77ee3bf",
   "metadata": {},
   "outputs": [],
   "source": [
    "# Predict on test set\n",
    "y_pred_lr_fell = lr_fell.predict(X_test_fell)"
   ]
  },
  {
   "cell_type": "code",
   "execution_count": 85,
   "id": "88629b51-b511-45ca-a3b9-7329d800c258",
   "metadata": {},
   "outputs": [
    {
     "name": "stdout",
     "output_type": "stream",
     "text": [
      "Linear Regression Mean Squared Error: 18.26838891868307\n"
     ]
    }
   ],
   "source": [
    "# Evaluate model\n",
    "mse_lr_fell = mean_squared_error(y_test_fell, y_pred_lr_fell)\n",
    "print(f\"Linear Regression Mean Squared Error: {mse_lr_fell}\")"
   ]
  },
  {
   "cell_type": "markdown",
   "id": "81451dda-2885-4941-95ec-2ef8ffaf8879",
   "metadata": {},
   "source": [
    "## Random Forest"
   ]
  },
  {
   "cell_type": "code",
   "execution_count": 86,
   "id": "5912360c-362b-4d97-a31a-d5c2de21728a",
   "metadata": {},
   "outputs": [
    {
     "data": {
      "text/html": [
       "<style>#sk-container-id-9 {color: black;}#sk-container-id-9 pre{padding: 0;}#sk-container-id-9 div.sk-toggleable {background-color: white;}#sk-container-id-9 label.sk-toggleable__label {cursor: pointer;display: block;width: 100%;margin-bottom: 0;padding: 0.3em;box-sizing: border-box;text-align: center;}#sk-container-id-9 label.sk-toggleable__label-arrow:before {content: \"▸\";float: left;margin-right: 0.25em;color: #696969;}#sk-container-id-9 label.sk-toggleable__label-arrow:hover:before {color: black;}#sk-container-id-9 div.sk-estimator:hover label.sk-toggleable__label-arrow:before {color: black;}#sk-container-id-9 div.sk-toggleable__content {max-height: 0;max-width: 0;overflow: hidden;text-align: left;background-color: #f0f8ff;}#sk-container-id-9 div.sk-toggleable__content pre {margin: 0.2em;color: black;border-radius: 0.25em;background-color: #f0f8ff;}#sk-container-id-9 input.sk-toggleable__control:checked~div.sk-toggleable__content {max-height: 200px;max-width: 100%;overflow: auto;}#sk-container-id-9 input.sk-toggleable__control:checked~label.sk-toggleable__label-arrow:before {content: \"▾\";}#sk-container-id-9 div.sk-estimator input.sk-toggleable__control:checked~label.sk-toggleable__label {background-color: #d4ebff;}#sk-container-id-9 div.sk-label input.sk-toggleable__control:checked~label.sk-toggleable__label {background-color: #d4ebff;}#sk-container-id-9 input.sk-hidden--visually {border: 0;clip: rect(1px 1px 1px 1px);clip: rect(1px, 1px, 1px, 1px);height: 1px;margin: -1px;overflow: hidden;padding: 0;position: absolute;width: 1px;}#sk-container-id-9 div.sk-estimator {font-family: monospace;background-color: #f0f8ff;border: 1px dotted black;border-radius: 0.25em;box-sizing: border-box;margin-bottom: 0.5em;}#sk-container-id-9 div.sk-estimator:hover {background-color: #d4ebff;}#sk-container-id-9 div.sk-parallel-item::after {content: \"\";width: 100%;border-bottom: 1px solid gray;flex-grow: 1;}#sk-container-id-9 div.sk-label:hover label.sk-toggleable__label {background-color: #d4ebff;}#sk-container-id-9 div.sk-serial::before {content: \"\";position: absolute;border-left: 1px solid gray;box-sizing: border-box;top: 0;bottom: 0;left: 50%;z-index: 0;}#sk-container-id-9 div.sk-serial {display: flex;flex-direction: column;align-items: center;background-color: white;padding-right: 0.2em;padding-left: 0.2em;position: relative;}#sk-container-id-9 div.sk-item {position: relative;z-index: 1;}#sk-container-id-9 div.sk-parallel {display: flex;align-items: stretch;justify-content: center;background-color: white;position: relative;}#sk-container-id-9 div.sk-item::before, #sk-container-id-9 div.sk-parallel-item::before {content: \"\";position: absolute;border-left: 1px solid gray;box-sizing: border-box;top: 0;bottom: 0;left: 50%;z-index: -1;}#sk-container-id-9 div.sk-parallel-item {display: flex;flex-direction: column;z-index: 1;position: relative;background-color: white;}#sk-container-id-9 div.sk-parallel-item:first-child::after {align-self: flex-end;width: 50%;}#sk-container-id-9 div.sk-parallel-item:last-child::after {align-self: flex-start;width: 50%;}#sk-container-id-9 div.sk-parallel-item:only-child::after {width: 0;}#sk-container-id-9 div.sk-dashed-wrapped {border: 1px dashed gray;margin: 0 0.4em 0.5em 0.4em;box-sizing: border-box;padding-bottom: 0.4em;background-color: white;}#sk-container-id-9 div.sk-label label {font-family: monospace;font-weight: bold;display: inline-block;line-height: 1.2em;}#sk-container-id-9 div.sk-label-container {text-align: center;}#sk-container-id-9 div.sk-container {/* jupyter's `normalize.less` sets `[hidden] { display: none; }` but bootstrap.min.css set `[hidden] { display: none !important; }` so we also need the `!important` here to be able to override the default hidden behavior on the sphinx rendered scikit-learn.org. See: https://github.com/scikit-learn/scikit-learn/issues/21755 */display: inline-block !important;position: relative;}#sk-container-id-9 div.sk-text-repr-fallback {display: none;}</style><div id=\"sk-container-id-9\" class=\"sk-top-container\"><div class=\"sk-text-repr-fallback\"><pre>RandomForestRegressor(random_state=42)</pre><b>In a Jupyter environment, please rerun this cell to show the HTML representation or trust the notebook. <br />On GitHub, the HTML representation is unable to render, please try loading this page with nbviewer.org.</b></div><div class=\"sk-container\" hidden><div class=\"sk-item\"><div class=\"sk-estimator sk-toggleable\"><input class=\"sk-toggleable__control sk-hidden--visually\" id=\"sk-estimator-id-9\" type=\"checkbox\" checked><label for=\"sk-estimator-id-9\" class=\"sk-toggleable__label sk-toggleable__label-arrow\">RandomForestRegressor</label><div class=\"sk-toggleable__content\"><pre>RandomForestRegressor(random_state=42)</pre></div></div></div></div></div>"
      ],
      "text/plain": [
       "RandomForestRegressor(random_state=42)"
      ]
     },
     "execution_count": 86,
     "metadata": {},
     "output_type": "execute_result"
    }
   ],
   "source": [
    "# Random Forest Regressor Model\n",
    "rf_fell = RandomForestRegressor(n_estimators=100, random_state=42)\n",
    "rf_fell.fit(X_train_fell, y_train_fell)"
   ]
  },
  {
   "cell_type": "code",
   "execution_count": 87,
   "id": "cdc6acb7-144c-4f23-813f-5bf43dcf94a6",
   "metadata": {},
   "outputs": [],
   "source": [
    "# Predict on test set\n",
    "y_pred_rf_fell = rf_fell.predict(X_test_fell)"
   ]
  },
  {
   "cell_type": "code",
   "execution_count": 88,
   "id": "5a8cf320-55cb-4bd1-b4b9-ffd3f1bd06fd",
   "metadata": {},
   "outputs": [
    {
     "name": "stdout",
     "output_type": "stream",
     "text": [
      "Random Forest Mean Squared Error: 19.73948\n"
     ]
    }
   ],
   "source": [
    "# Evaluate model\n",
    "mse_rf_fell = mean_squared_error(y_test_fell, y_pred_rf_fell)\n",
    "print(f\"Random Forest Mean Squared Error: {mse_rf_fell}\")"
   ]
  },
  {
   "cell_type": "markdown",
   "id": "1dc41c2f-d12d-495e-8557-88b885df0c67",
   "metadata": {},
   "source": [
    "## Mixed effect"
   ]
  },
  {
   "cell_type": "code",
   "execution_count": 94,
   "id": "ba14884b-6a1e-418d-8cdb-05380fc5b60e",
   "metadata": {},
   "outputs": [],
   "source": [
    "# Fit the Mixed Effects Model with count as target\n",
    "mixed_model_fell = smf.mixedlm(\"count ~ year + population_density\", X_fell, groups=X_fell[\"country_encoded\"])\n",
    "mixed_model_fitted_fell = mixed_model_fell.fit()"
   ]
  },
  {
   "cell_type": "code",
   "execution_count": 95,
   "id": "6c4ec773-b4b1-4cad-a7e6-94aed33a4a3b",
   "metadata": {},
   "outputs": [
    {
     "name": "stdout",
     "output_type": "stream",
     "text": [
      "             Mixed Linear Model Regression Results\n",
      "================================================================\n",
      "Model:                MixedLM   Dependent Variable:   count     \n",
      "No. Observations:     350       Method:               REML      \n",
      "No. Groups:           81        Scale:                21.2081   \n",
      "Min. group size:      1         Log-Likelihood:       -1135.3721\n",
      "Max. group size:      45        Converged:            Yes       \n",
      "Mean group size:      4.3                                       \n",
      "----------------------------------------------------------------\n",
      "                    Coef.  Std.Err.   z    P>|z|  [0.025  0.975]\n",
      "----------------------------------------------------------------\n",
      "Intercept          -44.274   36.297 -1.220 0.223 -115.416 26.867\n",
      "year                 0.024    0.018  1.295 0.195   -0.012  0.060\n",
      "population_density  -0.006    0.008 -0.717 0.473   -0.022  0.010\n",
      "Group Var           93.441    4.604                             \n",
      "================================================================\n",
      "\n"
     ]
    }
   ],
   "source": [
    "# Print model summary\n",
    "print(mixed_model_fitted_fell.summary())"
   ]
  },
  {
   "cell_type": "code",
   "execution_count": 96,
   "id": "0ae880d5-05bd-49f0-8d00-15f9094d86a5",
   "metadata": {},
   "outputs": [],
   "source": [
    "# Now, let's predict the number of meteorites for the test set\n",
    "# We need to make predictions on the test set by using the fitted model\n",
    "X_test_fell['predicted_count'] = mixed_model_fitted_fell.predict(X_test_fell)"
   ]
  },
  {
   "cell_type": "code",
   "execution_count": 97,
   "id": "72f668eb-8bc2-4c19-b8a9-7f09bb685871",
   "metadata": {},
   "outputs": [
    {
     "name": "stdout",
     "output_type": "stream",
     "text": [
      "Mixed Effect Model Mean Squared Error: 2.774419218640848\n"
     ]
    }
   ],
   "source": [
    "# Evaluate the predicted counts\n",
    "from sklearn.metrics import mean_squared_error\n",
    "mse_mixed_fell = mean_squared_error(y_test_fell, X_test_fell['predicted_count'])\n",
    "print(f\"Mixed Effect Model Mean Squared Error: {mse_mixed_fell}\")"
   ]
  },
  {
   "cell_type": "code",
   "execution_count": null,
   "id": "d62cc2cd-18d4-4b5a-a472-e389392a6292",
   "metadata": {},
   "outputs": [],
   "source": []
  }
 ],
 "metadata": {
  "kernelspec": {
   "display_name": "Python 3 (ipykernel)",
   "language": "python",
   "name": "python3"
  },
  "language_info": {
   "codemirror_mode": {
    "name": "ipython",
    "version": 3
   },
   "file_extension": ".py",
   "mimetype": "text/x-python",
   "name": "python",
   "nbconvert_exporter": "python",
   "pygments_lexer": "ipython3",
   "version": "3.9.19"
  }
 },
 "nbformat": 4,
 "nbformat_minor": 5
}
