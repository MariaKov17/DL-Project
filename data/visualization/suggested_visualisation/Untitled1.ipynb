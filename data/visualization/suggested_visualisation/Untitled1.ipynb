{
 "cells": [
  {
   "cell_type": "code",
   "execution_count": 109,
   "id": "4db72cd7-7b3b-4221-ae8d-644c7bd6894c",
   "metadata": {},
   "outputs": [],
   "source": [
    "import pandas as pd\n",
    "import numpy as np\n",
    "from sklearn.model_selection import train_test_split\n",
    "from sklearn.preprocessing import StandardScaler\n",
    "from sklearn.ensemble import RandomForestRegressor\n",
    "from sklearn.metrics import mean_squared_error"
   ]
  },
  {
   "cell_type": "code",
   "execution_count": 110,
   "id": "7ff50de8-e64b-4064-9b50-3859c4eea87d",
   "metadata": {},
   "outputs": [],
   "source": [
    "df = pd.read_csv(\"merged_data.csv\")"
   ]
  },
  {
   "cell_type": "code",
   "execution_count": 111,
   "id": "57dbfe1a-761f-4aaf-be0c-e23106548f61",
   "metadata": {},
   "outputs": [
    {
     "data": {
      "text/html": [
       "<div>\n",
       "<style scoped>\n",
       "    .dataframe tbody tr th:only-of-type {\n",
       "        vertical-align: middle;\n",
       "    }\n",
       "\n",
       "    .dataframe tbody tr th {\n",
       "        vertical-align: top;\n",
       "    }\n",
       "\n",
       "    .dataframe thead th {\n",
       "        text-align: right;\n",
       "    }\n",
       "</style>\n",
       "<table border=\"1\" class=\"dataframe\">\n",
       "  <thead>\n",
       "    <tr style=\"text-align: right;\">\n",
       "      <th></th>\n",
       "      <th>name</th>\n",
       "      <th>id</th>\n",
       "      <th>type</th>\n",
       "      <th>classification</th>\n",
       "      <th>mass</th>\n",
       "      <th>fall</th>\n",
       "      <th>year</th>\n",
       "      <th>latitude</th>\n",
       "      <th>longitude</th>\n",
       "      <th>country</th>\n",
       "      <th>...</th>\n",
       "      <th>2015</th>\n",
       "      <th>2016</th>\n",
       "      <th>2017</th>\n",
       "      <th>2018</th>\n",
       "      <th>2019</th>\n",
       "      <th>2020</th>\n",
       "      <th>2021</th>\n",
       "      <th>2022</th>\n",
       "      <th>2023</th>\n",
       "      <th>2024</th>\n",
       "    </tr>\n",
       "  </thead>\n",
       "  <tbody>\n",
       "    <tr>\n",
       "      <th>0</th>\n",
       "      <td>Haven</td>\n",
       "      <td>11858</td>\n",
       "      <td>Valid</td>\n",
       "      <td>H6</td>\n",
       "      <td>6100.0</td>\n",
       "      <td>Found</td>\n",
       "      <td>1950.0</td>\n",
       "      <td>37.96417</td>\n",
       "      <td>-97.75583</td>\n",
       "      <td>United States</td>\n",
       "      <td>...</td>\n",
       "      <td>25.239417</td>\n",
       "      <td>25.479003</td>\n",
       "      <td>25.713686</td>\n",
       "      <td>25.939171</td>\n",
       "      <td>26.155144</td>\n",
       "      <td>26.323940</td>\n",
       "      <td>26.445826</td>\n",
       "      <td>26.590781</td>\n",
       "      <td>26.769253</td>\n",
       "      <td>26.948271</td>\n",
       "    </tr>\n",
       "    <tr>\n",
       "      <th>1</th>\n",
       "      <td>St. Louis</td>\n",
       "      <td>23089</td>\n",
       "      <td>Valid</td>\n",
       "      <td>H4</td>\n",
       "      <td>1000.0</td>\n",
       "      <td>Fell</td>\n",
       "      <td>1950.0</td>\n",
       "      <td>38.70000</td>\n",
       "      <td>-90.23333</td>\n",
       "      <td>United States</td>\n",
       "      <td>...</td>\n",
       "      <td>25.239417</td>\n",
       "      <td>25.479003</td>\n",
       "      <td>25.713686</td>\n",
       "      <td>25.939171</td>\n",
       "      <td>26.155144</td>\n",
       "      <td>26.323940</td>\n",
       "      <td>26.445826</td>\n",
       "      <td>26.590781</td>\n",
       "      <td>26.769253</td>\n",
       "      <td>26.948271</td>\n",
       "    </tr>\n",
       "    <tr>\n",
       "      <th>2</th>\n",
       "      <td>Arroyo Aguiar</td>\n",
       "      <td>2340</td>\n",
       "      <td>Valid</td>\n",
       "      <td>H5</td>\n",
       "      <td>7450.0</td>\n",
       "      <td>Fell</td>\n",
       "      <td>1950.0</td>\n",
       "      <td>-31.41667</td>\n",
       "      <td>-60.66667</td>\n",
       "      <td>Argentina</td>\n",
       "      <td>...</td>\n",
       "      <td>15.573055</td>\n",
       "      <td>15.724678</td>\n",
       "      <td>15.863864</td>\n",
       "      <td>15.994957</td>\n",
       "      <td>16.109071</td>\n",
       "      <td>16.187335</td>\n",
       "      <td>16.230432</td>\n",
       "      <td>16.264683</td>\n",
       "      <td>16.311426</td>\n",
       "      <td>16.367933</td>\n",
       "    </tr>\n",
       "    <tr>\n",
       "      <th>3</th>\n",
       "      <td>Plainview (1950)</td>\n",
       "      <td>18842</td>\n",
       "      <td>Valid</td>\n",
       "      <td>H</td>\n",
       "      <td>2200.0</td>\n",
       "      <td>Found</td>\n",
       "      <td>1950.0</td>\n",
       "      <td>34.11667</td>\n",
       "      <td>-101.78333</td>\n",
       "      <td>United States</td>\n",
       "      <td>...</td>\n",
       "      <td>25.239417</td>\n",
       "      <td>25.479003</td>\n",
       "      <td>25.713686</td>\n",
       "      <td>25.939171</td>\n",
       "      <td>26.155144</td>\n",
       "      <td>26.323940</td>\n",
       "      <td>26.445826</td>\n",
       "      <td>26.590781</td>\n",
       "      <td>26.769253</td>\n",
       "      <td>26.948271</td>\n",
       "    </tr>\n",
       "    <tr>\n",
       "      <th>4</th>\n",
       "      <td>Santa Rosalia</td>\n",
       "      <td>23168</td>\n",
       "      <td>Valid</td>\n",
       "      <td>Pallasite, PMG</td>\n",
       "      <td>1631.0</td>\n",
       "      <td>Found</td>\n",
       "      <td>1950.0</td>\n",
       "      <td>27.33333</td>\n",
       "      <td>-112.33333</td>\n",
       "      <td>Mexico</td>\n",
       "      <td>...</td>\n",
       "      <td>61.795294</td>\n",
       "      <td>62.397078</td>\n",
       "      <td>62.983378</td>\n",
       "      <td>63.582411</td>\n",
       "      <td>64.189415</td>\n",
       "      <td>64.718226</td>\n",
       "      <td>65.151603</td>\n",
       "      <td>65.644123</td>\n",
       "      <td>66.219161</td>\n",
       "      <td>66.791446</td>\n",
       "    </tr>\n",
       "  </tbody>\n",
       "</table>\n",
       "<p>5 rows × 85 columns</p>\n",
       "</div>"
      ],
      "text/plain": [
       "               name     id   type  classification    mass   fall    year  \\\n",
       "0             Haven  11858  Valid              H6  6100.0  Found  1950.0   \n",
       "1         St. Louis  23089  Valid              H4  1000.0   Fell  1950.0   \n",
       "2     Arroyo Aguiar   2340  Valid              H5  7450.0   Fell  1950.0   \n",
       "3  Plainview (1950)  18842  Valid               H  2200.0  Found  1950.0   \n",
       "4     Santa Rosalia  23168  Valid  Pallasite, PMG  1631.0  Found  1950.0   \n",
       "\n",
       "   latitude  longitude        country  ...       2015       2016       2017  \\\n",
       "0  37.96417  -97.75583  United States  ...  25.239417  25.479003  25.713686   \n",
       "1  38.70000  -90.23333  United States  ...  25.239417  25.479003  25.713686   \n",
       "2 -31.41667  -60.66667      Argentina  ...  15.573055  15.724678  15.863864   \n",
       "3  34.11667 -101.78333  United States  ...  25.239417  25.479003  25.713686   \n",
       "4  27.33333 -112.33333         Mexico  ...  61.795294  62.397078  62.983378   \n",
       "\n",
       "        2018       2019       2020       2021       2022       2023       2024  \n",
       "0  25.939171  26.155144  26.323940  26.445826  26.590781  26.769253  26.948271  \n",
       "1  25.939171  26.155144  26.323940  26.445826  26.590781  26.769253  26.948271  \n",
       "2  15.994957  16.109071  16.187335  16.230432  16.264683  16.311426  16.367933  \n",
       "3  25.939171  26.155144  26.323940  26.445826  26.590781  26.769253  26.948271  \n",
       "4  63.582411  64.189415  64.718226  65.151603  65.644123  66.219161  66.791446  \n",
       "\n",
       "[5 rows x 85 columns]"
      ]
     },
     "execution_count": 111,
     "metadata": {},
     "output_type": "execute_result"
    }
   ],
   "source": [
    "df.head()"
   ]
  },
  {
   "cell_type": "code",
   "execution_count": 112,
   "id": "06494e41-ca04-4930-aca3-492c44da5dd2",
   "metadata": {},
   "outputs": [],
   "source": [
    "# Drop rows with missing values\n",
    "df = df.dropna()"
   ]
  },
  {
   "cell_type": "code",
   "execution_count": 113,
   "id": "8a5596b4-43df-4737-ac8c-82b2a3be7a3f",
   "metadata": {},
   "outputs": [],
   "source": [
    "# Create a subset of the population density DataFrame for 2015\n",
    "population_density = df[['country', '2015']].copy()"
   ]
  },
  {
   "cell_type": "code",
   "execution_count": 114,
   "id": "af3eaa08-5420-493d-9bc6-3d8ed07a5d3a",
   "metadata": {},
   "outputs": [],
   "source": [
    "df = df[df[\"fall\"] == \"Fell\"].drop(columns=[\"fall\"])\n",
    "df= df.drop(columns=[\"name\", \"id\", \"type\", \"classification\", \"country\"])"
   ]
  },
  {
   "cell_type": "code",
   "execution_count": 115,
   "id": "3c70764a-f974-4c64-b500-c23fd01583ac",
   "metadata": {},
   "outputs": [],
   "source": [
    "features = df.columns.difference([\"latitude\", \"longitude\"])\n",
    "target = [\"latitude\", \"longitude\"]"
   ]
  },
  {
   "cell_type": "code",
   "execution_count": 116,
   "id": "5f710790-995e-463a-abaf-5d47d2e6a2e0",
   "metadata": {},
   "outputs": [
    {
     "name": "stdout",
     "output_type": "stream",
     "text": [
      "Index(['mass', 'year', 'latitude', 'longitude', '1950', '1951', '1952', '1953',\n",
      "       '1954', '1955', '1956', '1957', '1958', '1959', '1960', '1961', '1962',\n",
      "       '1963', '1964', '1965', '1966', '1967', '1968', '1969', '1970', '1971',\n",
      "       '1972', '1973', '1974', '1975', '1976', '1977', '1978', '1979', '1980',\n",
      "       '1981', '1982', '1983', '1984', '1985', '1986', '1987', '1988', '1989',\n",
      "       '1990', '1991', '1992', '1993', '1994', '1995', '1996', '1997', '1998',\n",
      "       '1999', '2000', '2001', '2002', '2003', '2004', '2005', '2006', '2007',\n",
      "       '2008', '2009', '2010', '2011', '2012', '2013', '2014', '2015', '2016',\n",
      "       '2017', '2018', '2019', '2020', '2021', '2022', '2023', '2024'],\n",
      "      dtype='object')\n"
     ]
    }
   ],
   "source": [
    "print(df.columns)"
   ]
  },
  {
   "cell_type": "code",
   "execution_count": 117,
   "id": "63380d97-57ba-4748-84e9-8a70e64477ec",
   "metadata": {},
   "outputs": [],
   "source": [
    "# Train-test split\n",
    "X_train, X_test, y_train, y_test = train_test_split(df[features], df[target], test_size=0.2, random_state=42)"
   ]
  },
  {
   "cell_type": "code",
   "execution_count": 118,
   "id": "5250291a-e3ec-46e5-9d1c-89fcd103a834",
   "metadata": {},
   "outputs": [],
   "source": [
    "# Standardize features\n",
    "scaler = StandardScaler()\n",
    "X_train_scaled = scaler.fit_transform(X_train)\n",
    "X_test_scaled = scaler.transform(X_test)"
   ]
  },
  {
   "cell_type": "code",
   "execution_count": 119,
   "id": "7ad0f5f3-824c-44ae-976c-8573f64ba34d",
   "metadata": {},
   "outputs": [],
   "source": [
    "# Train separate models for Latitude and Longitude\n",
    "lat_model = RandomForestRegressor(n_estimators=100, random_state=42)\n",
    "lon_model = RandomForestRegressor(n_estimators=100, random_state=42)"
   ]
  },
  {
   "cell_type": "code",
   "execution_count": 120,
   "id": "ae9a5ce1-ae01-4b44-aa62-602e85e397a1",
   "metadata": {},
   "outputs": [
    {
     "data": {
      "text/html": [
       "<style>#sk-container-id-4 {color: black;}#sk-container-id-4 pre{padding: 0;}#sk-container-id-4 div.sk-toggleable {background-color: white;}#sk-container-id-4 label.sk-toggleable__label {cursor: pointer;display: block;width: 100%;margin-bottom: 0;padding: 0.3em;box-sizing: border-box;text-align: center;}#sk-container-id-4 label.sk-toggleable__label-arrow:before {content: \"▸\";float: left;margin-right: 0.25em;color: #696969;}#sk-container-id-4 label.sk-toggleable__label-arrow:hover:before {color: black;}#sk-container-id-4 div.sk-estimator:hover label.sk-toggleable__label-arrow:before {color: black;}#sk-container-id-4 div.sk-toggleable__content {max-height: 0;max-width: 0;overflow: hidden;text-align: left;background-color: #f0f8ff;}#sk-container-id-4 div.sk-toggleable__content pre {margin: 0.2em;color: black;border-radius: 0.25em;background-color: #f0f8ff;}#sk-container-id-4 input.sk-toggleable__control:checked~div.sk-toggleable__content {max-height: 200px;max-width: 100%;overflow: auto;}#sk-container-id-4 input.sk-toggleable__control:checked~label.sk-toggleable__label-arrow:before {content: \"▾\";}#sk-container-id-4 div.sk-estimator input.sk-toggleable__control:checked~label.sk-toggleable__label {background-color: #d4ebff;}#sk-container-id-4 div.sk-label input.sk-toggleable__control:checked~label.sk-toggleable__label {background-color: #d4ebff;}#sk-container-id-4 input.sk-hidden--visually {border: 0;clip: rect(1px 1px 1px 1px);clip: rect(1px, 1px, 1px, 1px);height: 1px;margin: -1px;overflow: hidden;padding: 0;position: absolute;width: 1px;}#sk-container-id-4 div.sk-estimator {font-family: monospace;background-color: #f0f8ff;border: 1px dotted black;border-radius: 0.25em;box-sizing: border-box;margin-bottom: 0.5em;}#sk-container-id-4 div.sk-estimator:hover {background-color: #d4ebff;}#sk-container-id-4 div.sk-parallel-item::after {content: \"\";width: 100%;border-bottom: 1px solid gray;flex-grow: 1;}#sk-container-id-4 div.sk-label:hover label.sk-toggleable__label {background-color: #d4ebff;}#sk-container-id-4 div.sk-serial::before {content: \"\";position: absolute;border-left: 1px solid gray;box-sizing: border-box;top: 0;bottom: 0;left: 50%;z-index: 0;}#sk-container-id-4 div.sk-serial {display: flex;flex-direction: column;align-items: center;background-color: white;padding-right: 0.2em;padding-left: 0.2em;position: relative;}#sk-container-id-4 div.sk-item {position: relative;z-index: 1;}#sk-container-id-4 div.sk-parallel {display: flex;align-items: stretch;justify-content: center;background-color: white;position: relative;}#sk-container-id-4 div.sk-item::before, #sk-container-id-4 div.sk-parallel-item::before {content: \"\";position: absolute;border-left: 1px solid gray;box-sizing: border-box;top: 0;bottom: 0;left: 50%;z-index: -1;}#sk-container-id-4 div.sk-parallel-item {display: flex;flex-direction: column;z-index: 1;position: relative;background-color: white;}#sk-container-id-4 div.sk-parallel-item:first-child::after {align-self: flex-end;width: 50%;}#sk-container-id-4 div.sk-parallel-item:last-child::after {align-self: flex-start;width: 50%;}#sk-container-id-4 div.sk-parallel-item:only-child::after {width: 0;}#sk-container-id-4 div.sk-dashed-wrapped {border: 1px dashed gray;margin: 0 0.4em 0.5em 0.4em;box-sizing: border-box;padding-bottom: 0.4em;background-color: white;}#sk-container-id-4 div.sk-label label {font-family: monospace;font-weight: bold;display: inline-block;line-height: 1.2em;}#sk-container-id-4 div.sk-label-container {text-align: center;}#sk-container-id-4 div.sk-container {/* jupyter's `normalize.less` sets `[hidden] { display: none; }` but bootstrap.min.css set `[hidden] { display: none !important; }` so we also need the `!important` here to be able to override the default hidden behavior on the sphinx rendered scikit-learn.org. See: https://github.com/scikit-learn/scikit-learn/issues/21755 */display: inline-block !important;position: relative;}#sk-container-id-4 div.sk-text-repr-fallback {display: none;}</style><div id=\"sk-container-id-4\" class=\"sk-top-container\"><div class=\"sk-text-repr-fallback\"><pre>RandomForestRegressor(random_state=42)</pre><b>In a Jupyter environment, please rerun this cell to show the HTML representation or trust the notebook. <br />On GitHub, the HTML representation is unable to render, please try loading this page with nbviewer.org.</b></div><div class=\"sk-container\" hidden><div class=\"sk-item\"><div class=\"sk-estimator sk-toggleable\"><input class=\"sk-toggleable__control sk-hidden--visually\" id=\"sk-estimator-id-4\" type=\"checkbox\" checked><label for=\"sk-estimator-id-4\" class=\"sk-toggleable__label sk-toggleable__label-arrow\">RandomForestRegressor</label><div class=\"sk-toggleable__content\"><pre>RandomForestRegressor(random_state=42)</pre></div></div></div></div></div>"
      ],
      "text/plain": [
       "RandomForestRegressor(random_state=42)"
      ]
     },
     "execution_count": 120,
     "metadata": {},
     "output_type": "execute_result"
    }
   ],
   "source": [
    "# Train models\n",
    "lat_model.fit(X_train_scaled, y_train[\"latitude\"])\n",
    "lon_model.fit(X_train_scaled, y_train[\"longitude\"])"
   ]
  },
  {
   "cell_type": "code",
   "execution_count": 121,
   "id": "6222855d-1202-425b-9c3a-b46232cffac9",
   "metadata": {},
   "outputs": [],
   "source": [
    "# Make predictions\n",
    "lat_pred = lat_model.predict(X_test_scaled)"
   ]
  },
  {
   "cell_type": "code",
   "execution_count": 122,
   "id": "dbd784ca-618e-4b48-a046-87416fca4dd6",
   "metadata": {},
   "outputs": [],
   "source": [
    "lon_pred = lon_model.predict(X_test_scaled)"
   ]
  },
  {
   "cell_type": "code",
   "execution_count": 123,
   "id": "aab04ec8-e15b-4d19-9740-584d6885e2f5",
   "metadata": {},
   "outputs": [],
   "source": [
    "from haversine import haversine, Unit"
   ]
  },
  {
   "cell_type": "code",
   "execution_count": 124,
   "id": "b482462d-3e24-4973-a27e-458a42133a6d",
   "metadata": {},
   "outputs": [],
   "source": [
    "def haversine_error(y_true, y_pred):\n",
    "    total_distance = 0\n",
    "    for i in range(len(y_true)):\n",
    "        true_point = (y_true.iloc[i][\"latitude\"], y_true.iloc[i][\"longitude\"])\n",
    "        pred_point = (y_pred[i][0], y_pred[i][1])\n",
    "        total_distance += haversine(true_point, pred_point, unit=Unit.KILOMETERS)\n",
    "    return total_distance / len(y_true)  # Average error in km"
   ]
  },
  {
   "cell_type": "code",
   "execution_count": 125,
   "id": "7d826f67-b0bf-4ca4-a502-65826cb71fd6",
   "metadata": {},
   "outputs": [],
   "source": [
    "# Compute error\n",
    "y_pred = np.column_stack((lat_pred, lon_pred))\n",
    "error_km = haversine_error(y_test, y_pred)"
   ]
  },
  {
   "cell_type": "code",
   "execution_count": 126,
   "id": "b4f12e19-f044-4588-975b-cd2ad9737dda",
   "metadata": {},
   "outputs": [
    {
     "name": "stdout",
     "output_type": "stream",
     "text": [
      "Average Haversine Error: 1921.83 km\n"
     ]
    }
   ],
   "source": [
    "print(f\"Average Haversine Error: {error_km:.2f} km\")"
   ]
  },
  {
   "cell_type": "code",
   "execution_count": 127,
   "id": "735f6492-ea66-4510-b1ee-8a861d9d4fa3",
   "metadata": {},
   "outputs": [
    {
     "name": "stdout",
     "output_type": "stream",
     "text": [
      "Predicted Meteorite Location: Latitude 35.8939, Longitude 113.3540\n"
     ]
    }
   ],
   "source": [
    "# Scale input\n",
    "future_scaled = scaler.transform(X_test)\n",
    "\n",
    "# Predict future meteorite location\n",
    "future_lat = lat_model.predict(future_scaled)\n",
    "future_lon = lon_model.predict(future_scaled)\n",
    "\n",
    "print(f\"Predicted Meteorite Location: Latitude {future_lat[0]:.4f}, Longitude {future_lon[0]:.4f}\")"
   ]
  },
  {
   "cell_type": "code",
   "execution_count": 128,
   "id": "5c89eaad-54da-4a34-b882-db605c0b3def",
   "metadata": {},
   "outputs": [],
   "source": [
    "import matplotlib.pyplot as plt\n",
    "import geopandas as gpd"
   ]
  },
  {
   "cell_type": "code",
   "execution_count": 129,
   "id": "9b634694-4468-4787-8d48-c4e0a6f53717",
   "metadata": {},
   "outputs": [],
   "source": [
    "# Load the world shapefile using your custom path\n",
    "world_shapefile_path = \"ne_110m_admin_0_countries/ne_110m_admin_0_countries.shp\"\n",
    "world = gpd.read_file(world_shapefile_path)"
   ]
  },
  {
   "cell_type": "code",
   "execution_count": 130,
   "id": "dda94b72-3c1b-4e2c-b3e0-e6f548bc75bd",
   "metadata": {},
   "outputs": [],
   "source": [
    "pred_df = pd.DataFrame({\"latitude\": lat_pred, \"longitude\": lon_pred})\n",
    "gdf_predicted = gpd.GeoDataFrame(pred_df, geometry=gpd.points_from_xy(pred_df.longitude, pred_df.latitude))"
   ]
  },
  {
   "cell_type": "code",
   "execution_count": 131,
   "id": "40e4a096-0f0b-474b-b727-cf9cefe39c84",
   "metadata": {},
   "outputs": [
    {
     "data": {
      "text/html": [
       "<div>\n",
       "<style scoped>\n",
       "    .dataframe tbody tr th:only-of-type {\n",
       "        vertical-align: middle;\n",
       "    }\n",
       "\n",
       "    .dataframe tbody tr th {\n",
       "        vertical-align: top;\n",
       "    }\n",
       "\n",
       "    .dataframe thead th {\n",
       "        text-align: right;\n",
       "    }\n",
       "</style>\n",
       "<table border=\"1\" class=\"dataframe\">\n",
       "  <thead>\n",
       "    <tr style=\"text-align: right;\">\n",
       "      <th></th>\n",
       "      <th>latitude</th>\n",
       "      <th>longitude</th>\n",
       "    </tr>\n",
       "  </thead>\n",
       "  <tbody>\n",
       "    <tr>\n",
       "      <th>1961</th>\n",
       "      <td>32.33333</td>\n",
       "      <td>114.31667</td>\n",
       "    </tr>\n",
       "    <tr>\n",
       "      <th>35207</th>\n",
       "      <td>38.70066</td>\n",
       "      <td>-77.21163</td>\n",
       "    </tr>\n",
       "    <tr>\n",
       "      <th>29922</th>\n",
       "      <td>59.43333</td>\n",
       "      <td>10.70000</td>\n",
       "    </tr>\n",
       "    <tr>\n",
       "      <th>14551</th>\n",
       "      <td>-7.03333</td>\n",
       "      <td>-40.16667</td>\n",
       "    </tr>\n",
       "    <tr>\n",
       "      <th>1805</th>\n",
       "      <td>44.05000</td>\n",
       "      <td>126.16667</td>\n",
       "    </tr>\n",
       "    <tr>\n",
       "      <th>...</th>\n",
       "      <td>...</td>\n",
       "      <td>...</td>\n",
       "    </tr>\n",
       "    <tr>\n",
       "      <th>411</th>\n",
       "      <td>45.30000</td>\n",
       "      <td>0.23333</td>\n",
       "    </tr>\n",
       "    <tr>\n",
       "      <th>5780</th>\n",
       "      <td>17.90000</td>\n",
       "      <td>101.63333</td>\n",
       "    </tr>\n",
       "    <tr>\n",
       "      <th>5750</th>\n",
       "      <td>64.02000</td>\n",
       "      <td>161.80833</td>\n",
       "    </tr>\n",
       "    <tr>\n",
       "      <th>7063</th>\n",
       "      <td>11.49167</td>\n",
       "      <td>11.65833</td>\n",
       "    </tr>\n",
       "    <tr>\n",
       "      <th>32280</th>\n",
       "      <td>20.74575</td>\n",
       "      <td>32.41275</td>\n",
       "    </tr>\n",
       "  </tbody>\n",
       "</table>\n",
       "<p>70 rows × 2 columns</p>\n",
       "</div>"
      ],
      "text/plain": [
       "       latitude  longitude\n",
       "1961   32.33333  114.31667\n",
       "35207  38.70066  -77.21163\n",
       "29922  59.43333   10.70000\n",
       "14551  -7.03333  -40.16667\n",
       "1805   44.05000  126.16667\n",
       "...         ...        ...\n",
       "411    45.30000    0.23333\n",
       "5780   17.90000  101.63333\n",
       "5750   64.02000  161.80833\n",
       "7063   11.49167   11.65833\n",
       "32280  20.74575   32.41275\n",
       "\n",
       "[70 rows x 2 columns]"
      ]
     },
     "execution_count": 131,
     "metadata": {},
     "output_type": "execute_result"
    }
   ],
   "source": [
    "y_test"
   ]
  },
  {
   "cell_type": "code",
   "execution_count": 132,
   "id": "4643fed0-5377-48d2-906c-c2193433132f",
   "metadata": {},
   "outputs": [],
   "source": [
    "\n",
    "# Convert true values into a GeoDataFrame\n",
    "gdf_actual = gpd.GeoDataFrame(y_test, geometry=gpd.points_from_xy(y_test[\"longitude\"], y_test[\"latitude\"]))"
   ]
  },
  {
   "cell_type": "code",
   "execution_count": 133,
   "id": "c9d642f6-ccfa-47da-a752-e4ec191cc6da",
   "metadata": {},
   "outputs": [],
   "source": [
    "world.rename(columns={'ADMIN': 'name'}, inplace=True) "
   ]
  },
  {
   "cell_type": "code",
   "execution_count": 134,
   "id": "22db82d5-937c-4e0a-85ca-fb26dd8f69b8",
   "metadata": {},
   "outputs": [],
   "source": [
    "# Names of some of the countries are not the same in the map and the population data so they need to be remapped first\n",
    "name_mapping = {\n",
    "    \"Russian Federation\": \"Russia\",\n",
    "    \"Bolivia (Plurinational State of)\": \"Bolivia\",\n",
    "    \"Venezuela (Bolivarian Republic of)\": \"Venezuela\",\n",
    "    \"Bahamas\": \"The Bahamas\",\n",
    "    \"Côte d'Ivoire\": \"Ivory Coast\",\n",
    "    \"Dem. Rep. of the Congo\": \"Democratic Republic of the Congo\",\n",
    "    \"Republic of Moldova\": \"Moldova\",\n",
    "    \"Republic of Korea\": \"South Korea\",\n",
    "    \"Serbia\": \"Republic of Serbia\",\n",
    "    \"Congo\": \"Republic of the Congo\",\n",
    "    \"Viet Nam\": \"Vietnam\",\n",
    "    \"China, Taiwan Province of China\": \"Taiwan\",\n",
    "    \"Dem. People's Rep. of Korea\": \"North Korea\",\n",
    "    \"Brunei Darussalam\": \"Brunei\",\n",
    "    \"State of Palestine\": \"Palestine\",\n",
    "    \"Falkland Islands (Malvinas)\": \"Falkland Islands\",\n",
    "    \"Lao People's Dem. Republic\": \"Laos\",\n",
    "    \"Timor-Leste\": \"East Timor\",\n",
    "    \"Kosovo (under UNSC res. 1244)\": \"Kosovo\",\n",
    "    \"Eswatini\": \"eSwatini\",\n",
    "    \"Syrian Arab Republic\": \"Syria\",\n",
    "    \"Iran (Islamic Republic of)\": \"Iran\",\n",
    "    \"Türkiye\": \"Turkey\"\n",
    "}"
   ]
  },
  {
   "cell_type": "code",
   "execution_count": 136,
   "id": "cf214115-00eb-48c4-a0cc-019454592bac",
   "metadata": {},
   "outputs": [
    {
     "data": {
      "text/html": [
       "<div>\n",
       "<style scoped>\n",
       "    .dataframe tbody tr th:only-of-type {\n",
       "        vertical-align: middle;\n",
       "    }\n",
       "\n",
       "    .dataframe tbody tr th {\n",
       "        vertical-align: top;\n",
       "    }\n",
       "\n",
       "    .dataframe thead th {\n",
       "        text-align: right;\n",
       "    }\n",
       "</style>\n",
       "<table border=\"1\" class=\"dataframe\">\n",
       "  <thead>\n",
       "    <tr style=\"text-align: right;\">\n",
       "      <th></th>\n",
       "      <th>country</th>\n",
       "      <th>population_density</th>\n",
       "    </tr>\n",
       "  </thead>\n",
       "  <tbody>\n",
       "    <tr>\n",
       "      <th>0</th>\n",
       "      <td>United States</td>\n",
       "      <td>25.239417</td>\n",
       "    </tr>\n",
       "    <tr>\n",
       "      <th>1</th>\n",
       "      <td>United States</td>\n",
       "      <td>25.239417</td>\n",
       "    </tr>\n",
       "    <tr>\n",
       "      <th>2</th>\n",
       "      <td>Argentina</td>\n",
       "      <td>15.573055</td>\n",
       "    </tr>\n",
       "    <tr>\n",
       "      <th>3</th>\n",
       "      <td>United States</td>\n",
       "      <td>25.239417</td>\n",
       "    </tr>\n",
       "    <tr>\n",
       "      <th>4</th>\n",
       "      <td>Mexico</td>\n",
       "      <td>61.795294</td>\n",
       "    </tr>\n",
       "    <tr>\n",
       "      <th>...</th>\n",
       "      <td>...</td>\n",
       "      <td>...</td>\n",
       "    </tr>\n",
       "    <tr>\n",
       "      <th>36225</th>\n",
       "      <td>United States</td>\n",
       "      <td>25.239417</td>\n",
       "    </tr>\n",
       "    <tr>\n",
       "      <th>36257</th>\n",
       "      <td>United States</td>\n",
       "      <td>25.239417</td>\n",
       "    </tr>\n",
       "    <tr>\n",
       "      <th>36368</th>\n",
       "      <td>Chile</td>\n",
       "      <td>23.969094</td>\n",
       "    </tr>\n",
       "    <tr>\n",
       "      <th>36410</th>\n",
       "      <td>United States</td>\n",
       "      <td>25.239417</td>\n",
       "    </tr>\n",
       "    <tr>\n",
       "      <th>36448</th>\n",
       "      <td>Russia</td>\n",
       "      <td>8.873386</td>\n",
       "    </tr>\n",
       "  </tbody>\n",
       "</table>\n",
       "<p>8172 rows × 2 columns</p>\n",
       "</div>"
      ],
      "text/plain": [
       "             country  population_density\n",
       "0      United States           25.239417\n",
       "1      United States           25.239417\n",
       "2          Argentina           15.573055\n",
       "3      United States           25.239417\n",
       "4             Mexico           61.795294\n",
       "...              ...                 ...\n",
       "36225  United States           25.239417\n",
       "36257  United States           25.239417\n",
       "36368          Chile           23.969094\n",
       "36410  United States           25.239417\n",
       "36448         Russia            8.873386\n",
       "\n",
       "[8172 rows x 2 columns]"
      ]
     },
     "execution_count": 136,
     "metadata": {},
     "output_type": "execute_result"
    }
   ],
   "source": [
    "population_density"
   ]
  },
  {
   "cell_type": "code",
   "execution_count": 137,
   "id": "6d2b0ea3-2fdb-409a-8aea-a50c208b7ecc",
   "metadata": {},
   "outputs": [],
   "source": [
    "# Rename columns for consistency\n",
    "population_density.rename(columns={'country': 'name', '2015': 'population_density'}, inplace=True)\n",
    "population_density['name'] = population_density['name'].replace(name_mapping)\n",
    "# Merge with the world GeoDataFrame\n",
    "world_merged = world.merge(population_density, on='name', how='left')"
   ]
  },
  {
   "cell_type": "code",
   "execution_count": 138,
   "id": "79adea75-476d-4309-af37-0d15cbc3dce1",
   "metadata": {},
   "outputs": [
    {
     "data": {
      "image/png": "[encoded data removed]",
      "text/plain": [
       "<Figure size 1500x1000 with 2 Axes>"
      ]
     },
     "metadata": {},
     "output_type": "display_data"
    }
   ],
   "source": [
    "# Create the plot\n",
    "fig, ax = plt.subplots(figsize=(15, 10))\n",
    "\n",
    "# Plot the population density heatmap\n",
    "world_merged.plot(column='population_density', cmap='YlGnBu', legend=True, ax=ax)\n",
    "\n",
    "# Plot actual meteorite falls (red)\n",
    "gdf_actual.plot(ax=ax, color='red', markersize=10, alpha=0.8, label=\"Actual Locations\")\n",
    "\n",
    "# Plot predicted meteorite falls (green)\n",
    "gdf_predicted.plot(ax=ax, color='green', markersize=10, alpha=0.8, label=\"Predicted Locations\")\n",
    "\n",
    "# Add title and legend\n",
    "ax.set_title(\"Population Density (2015) with Meteorite Locations (Actual vs Predicted)\")\n",
    "ax.legend(loc=\"lower left\")\n",
    "\n",
    "# Show the plot\n",
    "plt.tight_layout()\n",
    "plt.show()"
   ]
  },
  {
   "cell_type": "code",
   "execution_count": null,
   "id": "8c206370-4a74-4fb7-9d52-1dd41bfef26f",
   "metadata": {},
   "outputs": [],
   "source": []
  }
 ],
 "metadata": {
  "kernelspec": {
   "display_name": "Python 3 (ipykernel)",
   "language": "python",
   "name": "python3"
  },
  "language_info": {
   "codemirror_mode": {
    "name": "ipython",
    "version": 3
   },
   "file_extension": ".py",
   "mimetype": "text/x-python",
   "name": "python",
   "nbconvert_exporter": "python",
   "pygments_lexer": "ipython3",
   "version": "3.9.19"
  }
 },
 "nbformat": 4,
 "nbformat_minor": 5
}
