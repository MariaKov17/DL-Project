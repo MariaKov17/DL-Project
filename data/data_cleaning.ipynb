{
 "cells": [
  {
   "cell_type": "markdown",
   "id": "3c48a242-2826-4de3-a398-25de73cca061",
   "metadata": {},
   "source": [
    "# Importing the libraries\n",
    "\n",
    "This section includes the libraries required for data handling, visualization, and interaction with external APIs.\n"
   ]
  },
  {
   "cell_type": "code",
   "execution_count": 1,
   "id": "8d4153aa-cc63-4488-85cc-dbf0bacbcac4",
   "metadata": {},
   "outputs": [],
   "source": [
    "import pandas as pd\n",
    "import numpy as np\n",
    "import matplotlib.pyplot as plt\n",
    "import seaborn as sns\n",
    "import requests"
   ]
  },
  {
   "cell_type": "markdown",
   "id": "01fd5fa9-78e2-40f8-8034-9603598279b2",
   "metadata": {},
   "source": [
    "# Extracting the data using API\n",
    "\n",
    "Here, we use an API endpoint to fetch data iteratively. The process handles pagination by using an offset and limit for each request.\n"
   ]
  },
  {
   "cell_type": "code",
   "execution_count": 2,
   "id": "f3ca55b9-c5ed-4071-91a6-8e4077a0e8c8",
   "metadata": {},
   "outputs": [],
   "source": [
    "# API endpoint\n",
    "endpoint = \"https://data.nasa.gov/resource/gh4g-9sfh.json\"\n",
    "chunk_size = 1000  # Rows per request\n",
    "all_data = []      # List to store all rows\n",
    "\n",
    "offset = 0\n",
    "\n",
    "#loop to iteratively fetch data until no more is available\n",
    "while True:\n",
    "    # Construct API URL with limit and offset\n",
    "    url = f\"{endpoint}?$limit={chunk_size}&$offset={offset}\" #Define API endpoint and data retrieval parameters\n",
    "    response = requests.get(url)\n",
    "    data = response.json()\n",
    "\n",
    "    if not data:  # Break if no more data\n",
    "        break\n",
    "\n",
    "    all_data.extend(data)  # Append data to the list\n",
    "    offset += chunk_size   # Increment offset"
   ]
  },
  {
   "cell_type": "markdown",
   "id": "f5f133a4-19b3-4a83-8812-df4fea1c5760",
   "metadata": {},
   "source": [
    "## Saving the Data to a CSV file\n",
    "\n",
    "The processed data is saved locally for future analysis and easy accessibility."
   ]
  },
  {
   "cell_type": "code",
   "execution_count": 3,
   "id": "bf414839-e0a9-45a1-8be2-a3eb2dc9b14a",
   "metadata": {},
   "outputs": [
    {
     "name": "stdout",
     "output_type": "stream",
     "text": [
      "<class 'pandas.core.frame.DataFrame'>\n",
      "RangeIndex: 45716 entries, 0 to 45715\n",
      "Data columns (total 12 columns):\n",
      " #   Column                       Non-Null Count  Dtype \n",
      "---  ------                       --------------  ----- \n",
      " 0   name                         45716 non-null  object\n",
      " 1   id                           45716 non-null  object\n",
      " 2   nametype                     45716 non-null  object\n",
      " 3   recclass                     45716 non-null  object\n",
      " 4   mass                         45585 non-null  object\n",
      " 5   fall                         45716 non-null  object\n",
      " 6   year                         45425 non-null  object\n",
      " 7   reclat                       38401 non-null  object\n",
      " 8   reclong                      38401 non-null  object\n",
      " 9   geolocation                  38401 non-null  object\n",
      " 10  :@computed_region_cbhk_fwbd  1659 non-null   object\n",
      " 11  :@computed_region_nnqa_25f4  1659 non-null   object\n",
      "dtypes: object(12)\n",
      "memory usage: 4.2+ MB\n",
      "None\n",
      "Data saved to meteorite_landings.csv\n"
     ]
    }
   ],
   "source": [
    "# Convert to DataFrame for better handling\n",
    "df = pd.DataFrame(all_data)\n",
    "print(df.info())  # Check the structure of the DataFrame\n",
    "\n",
    "# Save to CSV\n",
    "df.to_csv(\"meteorite_landings.csv\", index=False)\n",
    "print(\"Data saved to meteorite_landings.csv\")"
   ]
  },
  {
   "cell_type": "code",
   "execution_count": 4,
   "id": "61067260-dfb4-409c-afa8-854e54ab8a8f",
   "metadata": {},
   "outputs": [
    {
     "data": {
      "text/html": [
       "<div>\n",
       "<style scoped>\n",
       "    .dataframe tbody tr th:only-of-type {\n",
       "        vertical-align: middle;\n",
       "    }\n",
       "\n",
       "    .dataframe tbody tr th {\n",
       "        vertical-align: top;\n",
       "    }\n",
       "\n",
       "    .dataframe thead th {\n",
       "        text-align: right;\n",
       "    }\n",
       "</style>\n",
       "<table border=\"1\" class=\"dataframe\">\n",
       "  <thead>\n",
       "    <tr style=\"text-align: right;\">\n",
       "      <th></th>\n",
       "      <th>name</th>\n",
       "      <th>id</th>\n",
       "      <th>nametype</th>\n",
       "      <th>recclass</th>\n",
       "      <th>mass</th>\n",
       "      <th>fall</th>\n",
       "      <th>year</th>\n",
       "      <th>reclat</th>\n",
       "      <th>reclong</th>\n",
       "      <th>geolocation</th>\n",
       "      <th>:@computed_region_cbhk_fwbd</th>\n",
       "      <th>:@computed_region_nnqa_25f4</th>\n",
       "    </tr>\n",
       "  </thead>\n",
       "  <tbody>\n",
       "    <tr>\n",
       "      <th>0</th>\n",
       "      <td>Aachen</td>\n",
       "      <td>1</td>\n",
       "      <td>Valid</td>\n",
       "      <td>L5</td>\n",
       "      <td>21</td>\n",
       "      <td>Fell</td>\n",
       "      <td>1880-01-01T00:00:00.000</td>\n",
       "      <td>50.775000</td>\n",
       "      <td>6.083330</td>\n",
       "      <td>{'latitude': '50.775', 'longitude': '6.08333'}</td>\n",
       "      <td>NaN</td>\n",
       "      <td>NaN</td>\n",
       "    </tr>\n",
       "    <tr>\n",
       "      <th>1</th>\n",
       "      <td>Aarhus</td>\n",
       "      <td>2</td>\n",
       "      <td>Valid</td>\n",
       "      <td>H6</td>\n",
       "      <td>720</td>\n",
       "      <td>Fell</td>\n",
       "      <td>1951-01-01T00:00:00.000</td>\n",
       "      <td>56.183330</td>\n",
       "      <td>10.233330</td>\n",
       "      <td>{'latitude': '56.18333', 'longitude': '10.23333'}</td>\n",
       "      <td>NaN</td>\n",
       "      <td>NaN</td>\n",
       "    </tr>\n",
       "    <tr>\n",
       "      <th>2</th>\n",
       "      <td>Abee</td>\n",
       "      <td>6</td>\n",
       "      <td>Valid</td>\n",
       "      <td>EH4</td>\n",
       "      <td>107000</td>\n",
       "      <td>Fell</td>\n",
       "      <td>1952-01-01T00:00:00.000</td>\n",
       "      <td>54.216670</td>\n",
       "      <td>-113.000000</td>\n",
       "      <td>{'latitude': '54.21667', 'longitude': '-113.0'}</td>\n",
       "      <td>NaN</td>\n",
       "      <td>NaN</td>\n",
       "    </tr>\n",
       "    <tr>\n",
       "      <th>3</th>\n",
       "      <td>Acapulco</td>\n",
       "      <td>10</td>\n",
       "      <td>Valid</td>\n",
       "      <td>Acapulcoite</td>\n",
       "      <td>1914</td>\n",
       "      <td>Fell</td>\n",
       "      <td>1976-01-01T00:00:00.000</td>\n",
       "      <td>16.883330</td>\n",
       "      <td>-99.900000</td>\n",
       "      <td>{'latitude': '16.88333', 'longitude': '-99.9'}</td>\n",
       "      <td>NaN</td>\n",
       "      <td>NaN</td>\n",
       "    </tr>\n",
       "    <tr>\n",
       "      <th>4</th>\n",
       "      <td>Achiras</td>\n",
       "      <td>370</td>\n",
       "      <td>Valid</td>\n",
       "      <td>L6</td>\n",
       "      <td>780</td>\n",
       "      <td>Fell</td>\n",
       "      <td>1902-01-01T00:00:00.000</td>\n",
       "      <td>-33.166670</td>\n",
       "      <td>-64.950000</td>\n",
       "      <td>{'latitude': '-33.16667', 'longitude': '-64.95'}</td>\n",
       "      <td>NaN</td>\n",
       "      <td>NaN</td>\n",
       "    </tr>\n",
       "  </tbody>\n",
       "</table>\n",
       "</div>"
      ],
      "text/plain": [
       "       name   id nametype     recclass    mass  fall                     year  \\\n",
       "0    Aachen    1    Valid           L5      21  Fell  1880-01-01T00:00:00.000   \n",
       "1    Aarhus    2    Valid           H6     720  Fell  1951-01-01T00:00:00.000   \n",
       "2      Abee    6    Valid          EH4  107000  Fell  1952-01-01T00:00:00.000   \n",
       "3  Acapulco   10    Valid  Acapulcoite    1914  Fell  1976-01-01T00:00:00.000   \n",
       "4   Achiras  370    Valid           L6     780  Fell  1902-01-01T00:00:00.000   \n",
       "\n",
       "       reclat      reclong                                        geolocation  \\\n",
       "0   50.775000     6.083330     {'latitude': '50.775', 'longitude': '6.08333'}   \n",
       "1   56.183330    10.233330  {'latitude': '56.18333', 'longitude': '10.23333'}   \n",
       "2   54.216670  -113.000000    {'latitude': '54.21667', 'longitude': '-113.0'}   \n",
       "3   16.883330   -99.900000     {'latitude': '16.88333', 'longitude': '-99.9'}   \n",
       "4  -33.166670   -64.950000   {'latitude': '-33.16667', 'longitude': '-64.95'}   \n",
       "\n",
       "  :@computed_region_cbhk_fwbd :@computed_region_nnqa_25f4  \n",
       "0                         NaN                         NaN  \n",
       "1                         NaN                         NaN  \n",
       "2                         NaN                         NaN  \n",
       "3                         NaN                         NaN  \n",
       "4                         NaN                         NaN  "
      ]
     },
     "execution_count": 4,
     "metadata": {},
     "output_type": "execute_result"
    }
   ],
   "source": [
    "df.head()"
   ]
  },
  {
   "cell_type": "markdown",
   "id": "a4de51a5-0415-4617-9155-b5d08dfcf17a",
   "metadata": {},
   "source": [
    "## Dropping the irrelavant columns and the NA rows"
   ]
  },
  {
   "cell_type": "code",
   "execution_count": 5,
   "id": "ac93ffe3-72ed-43df-9a7d-5e87dae72ba2",
   "metadata": {},
   "outputs": [],
   "source": [
    "# Drop the last two columns by specifying their positions\n",
    "df = df.drop(df.columns[-2:], axis=1)"
   ]
  },
  {
   "cell_type": "code",
   "execution_count": 6,
   "id": "67b0dac3-015f-4629-a92b-c789ba1b7836",
   "metadata": {},
   "outputs": [
    {
     "data": {
      "text/html": [
       "<div>\n",
       "<style scoped>\n",
       "    .dataframe tbody tr th:only-of-type {\n",
       "        vertical-align: middle;\n",
       "    }\n",
       "\n",
       "    .dataframe tbody tr th {\n",
       "        vertical-align: top;\n",
       "    }\n",
       "\n",
       "    .dataframe thead th {\n",
       "        text-align: right;\n",
       "    }\n",
       "</style>\n",
       "<table border=\"1\" class=\"dataframe\">\n",
       "  <thead>\n",
       "    <tr style=\"text-align: right;\">\n",
       "      <th></th>\n",
       "      <th>name</th>\n",
       "      <th>id</th>\n",
       "      <th>nametype</th>\n",
       "      <th>recclass</th>\n",
       "      <th>mass</th>\n",
       "      <th>fall</th>\n",
       "      <th>year</th>\n",
       "      <th>reclat</th>\n",
       "      <th>reclong</th>\n",
       "      <th>geolocation</th>\n",
       "    </tr>\n",
       "  </thead>\n",
       "  <tbody>\n",
       "    <tr>\n",
       "      <th>0</th>\n",
       "      <td>Aachen</td>\n",
       "      <td>1</td>\n",
       "      <td>Valid</td>\n",
       "      <td>L5</td>\n",
       "      <td>21</td>\n",
       "      <td>Fell</td>\n",
       "      <td>1880-01-01T00:00:00.000</td>\n",
       "      <td>50.775000</td>\n",
       "      <td>6.083330</td>\n",
       "      <td>{'latitude': '50.775', 'longitude': '6.08333'}</td>\n",
       "    </tr>\n",
       "    <tr>\n",
       "      <th>1</th>\n",
       "      <td>Aarhus</td>\n",
       "      <td>2</td>\n",
       "      <td>Valid</td>\n",
       "      <td>H6</td>\n",
       "      <td>720</td>\n",
       "      <td>Fell</td>\n",
       "      <td>1951-01-01T00:00:00.000</td>\n",
       "      <td>56.183330</td>\n",
       "      <td>10.233330</td>\n",
       "      <td>{'latitude': '56.18333', 'longitude': '10.23333'}</td>\n",
       "    </tr>\n",
       "    <tr>\n",
       "      <th>2</th>\n",
       "      <td>Abee</td>\n",
       "      <td>6</td>\n",
       "      <td>Valid</td>\n",
       "      <td>EH4</td>\n",
       "      <td>107000</td>\n",
       "      <td>Fell</td>\n",
       "      <td>1952-01-01T00:00:00.000</td>\n",
       "      <td>54.216670</td>\n",
       "      <td>-113.000000</td>\n",
       "      <td>{'latitude': '54.21667', 'longitude': '-113.0'}</td>\n",
       "    </tr>\n",
       "    <tr>\n",
       "      <th>3</th>\n",
       "      <td>Acapulco</td>\n",
       "      <td>10</td>\n",
       "      <td>Valid</td>\n",
       "      <td>Acapulcoite</td>\n",
       "      <td>1914</td>\n",
       "      <td>Fell</td>\n",
       "      <td>1976-01-01T00:00:00.000</td>\n",
       "      <td>16.883330</td>\n",
       "      <td>-99.900000</td>\n",
       "      <td>{'latitude': '16.88333', 'longitude': '-99.9'}</td>\n",
       "    </tr>\n",
       "    <tr>\n",
       "      <th>4</th>\n",
       "      <td>Achiras</td>\n",
       "      <td>370</td>\n",
       "      <td>Valid</td>\n",
       "      <td>L6</td>\n",
       "      <td>780</td>\n",
       "      <td>Fell</td>\n",
       "      <td>1902-01-01T00:00:00.000</td>\n",
       "      <td>-33.166670</td>\n",
       "      <td>-64.950000</td>\n",
       "      <td>{'latitude': '-33.16667', 'longitude': '-64.95'}</td>\n",
       "    </tr>\n",
       "  </tbody>\n",
       "</table>\n",
       "</div>"
      ],
      "text/plain": [
       "       name   id nametype     recclass    mass  fall                     year  \\\n",
       "0    Aachen    1    Valid           L5      21  Fell  1880-01-01T00:00:00.000   \n",
       "1    Aarhus    2    Valid           H6     720  Fell  1951-01-01T00:00:00.000   \n",
       "2      Abee    6    Valid          EH4  107000  Fell  1952-01-01T00:00:00.000   \n",
       "3  Acapulco   10    Valid  Acapulcoite    1914  Fell  1976-01-01T00:00:00.000   \n",
       "4   Achiras  370    Valid           L6     780  Fell  1902-01-01T00:00:00.000   \n",
       "\n",
       "       reclat      reclong                                        geolocation  \n",
       "0   50.775000     6.083330     {'latitude': '50.775', 'longitude': '6.08333'}  \n",
       "1   56.183330    10.233330  {'latitude': '56.18333', 'longitude': '10.23333'}  \n",
       "2   54.216670  -113.000000    {'latitude': '54.21667', 'longitude': '-113.0'}  \n",
       "3   16.883330   -99.900000     {'latitude': '16.88333', 'longitude': '-99.9'}  \n",
       "4  -33.166670   -64.950000   {'latitude': '-33.16667', 'longitude': '-64.95'}  "
      ]
     },
     "execution_count": 6,
     "metadata": {},
     "output_type": "execute_result"
    }
   ],
   "source": [
    "df.head()"
   ]
  },
  {
   "cell_type": "code",
   "execution_count": 7,
   "id": "4b0fc034-c3cd-400f-9785-520c2dbb941a",
   "metadata": {},
   "outputs": [],
   "source": [
    "# Drop rows with any NaN values\n",
    "df = df.dropna()\n",
    "\n",
    "# Reset index after dropping rows\n",
    "df.reset_index(drop=True, inplace=True)\n"
   ]
  },
  {
   "cell_type": "code",
   "execution_count": 8,
   "id": "a0e1412b-5259-43a1-ab5d-ebb815b919fe",
   "metadata": {},
   "outputs": [
    {
     "name": "stdout",
     "output_type": "stream",
     "text": [
      "<class 'pandas.core.frame.DataFrame'>\n",
      "RangeIndex: 38115 entries, 0 to 38114\n",
      "Data columns (total 10 columns):\n",
      " #   Column       Non-Null Count  Dtype \n",
      "---  ------       --------------  ----- \n",
      " 0   name         38115 non-null  object\n",
      " 1   id           38115 non-null  object\n",
      " 2   nametype     38115 non-null  object\n",
      " 3   recclass     38115 non-null  object\n",
      " 4   mass         38115 non-null  object\n",
      " 5   fall         38115 non-null  object\n",
      " 6   year         38115 non-null  object\n",
      " 7   reclat       38115 non-null  object\n",
      " 8   reclong      38115 non-null  object\n",
      " 9   geolocation  38115 non-null  object\n",
      "dtypes: object(10)\n",
      "memory usage: 2.9+ MB\n",
      "None\n"
     ]
    }
   ],
   "source": [
    "# Check the resulting DataFrame\n",
    "print(df.info())"
   ]
  },
  {
   "cell_type": "code",
   "execution_count": 9,
   "id": "a62dfdba-d2d4-4021-91ab-0cdbf9ecf2fb",
   "metadata": {},
   "outputs": [
    {
     "data": {
      "text/html": [
       "<div>\n",
       "<style scoped>\n",
       "    .dataframe tbody tr th:only-of-type {\n",
       "        vertical-align: middle;\n",
       "    }\n",
       "\n",
       "    .dataframe tbody tr th {\n",
       "        vertical-align: top;\n",
       "    }\n",
       "\n",
       "    .dataframe thead th {\n",
       "        text-align: right;\n",
       "    }\n",
       "</style>\n",
       "<table border=\"1\" class=\"dataframe\">\n",
       "  <thead>\n",
       "    <tr style=\"text-align: right;\">\n",
       "      <th></th>\n",
       "      <th>name</th>\n",
       "      <th>id</th>\n",
       "      <th>nametype</th>\n",
       "      <th>recclass</th>\n",
       "      <th>mass</th>\n",
       "      <th>fall</th>\n",
       "      <th>year</th>\n",
       "      <th>reclat</th>\n",
       "      <th>reclong</th>\n",
       "      <th>geolocation</th>\n",
       "    </tr>\n",
       "  </thead>\n",
       "  <tbody>\n",
       "    <tr>\n",
       "      <th>0</th>\n",
       "      <td>Aachen</td>\n",
       "      <td>1</td>\n",
       "      <td>Valid</td>\n",
       "      <td>L5</td>\n",
       "      <td>21</td>\n",
       "      <td>Fell</td>\n",
       "      <td>1880-01-01T00:00:00.000</td>\n",
       "      <td>50.775000</td>\n",
       "      <td>6.083330</td>\n",
       "      <td>{'latitude': '50.775', 'longitude': '6.08333'}</td>\n",
       "    </tr>\n",
       "    <tr>\n",
       "      <th>1</th>\n",
       "      <td>Aarhus</td>\n",
       "      <td>2</td>\n",
       "      <td>Valid</td>\n",
       "      <td>H6</td>\n",
       "      <td>720</td>\n",
       "      <td>Fell</td>\n",
       "      <td>1951-01-01T00:00:00.000</td>\n",
       "      <td>56.183330</td>\n",
       "      <td>10.233330</td>\n",
       "      <td>{'latitude': '56.18333', 'longitude': '10.23333'}</td>\n",
       "    </tr>\n",
       "    <tr>\n",
       "      <th>2</th>\n",
       "      <td>Abee</td>\n",
       "      <td>6</td>\n",
       "      <td>Valid</td>\n",
       "      <td>EH4</td>\n",
       "      <td>107000</td>\n",
       "      <td>Fell</td>\n",
       "      <td>1952-01-01T00:00:00.000</td>\n",
       "      <td>54.216670</td>\n",
       "      <td>-113.000000</td>\n",
       "      <td>{'latitude': '54.21667', 'longitude': '-113.0'}</td>\n",
       "    </tr>\n",
       "    <tr>\n",
       "      <th>3</th>\n",
       "      <td>Acapulco</td>\n",
       "      <td>10</td>\n",
       "      <td>Valid</td>\n",
       "      <td>Acapulcoite</td>\n",
       "      <td>1914</td>\n",
       "      <td>Fell</td>\n",
       "      <td>1976-01-01T00:00:00.000</td>\n",
       "      <td>16.883330</td>\n",
       "      <td>-99.900000</td>\n",
       "      <td>{'latitude': '16.88333', 'longitude': '-99.9'}</td>\n",
       "    </tr>\n",
       "    <tr>\n",
       "      <th>4</th>\n",
       "      <td>Achiras</td>\n",
       "      <td>370</td>\n",
       "      <td>Valid</td>\n",
       "      <td>L6</td>\n",
       "      <td>780</td>\n",
       "      <td>Fell</td>\n",
       "      <td>1902-01-01T00:00:00.000</td>\n",
       "      <td>-33.166670</td>\n",
       "      <td>-64.950000</td>\n",
       "      <td>{'latitude': '-33.16667', 'longitude': '-64.95'}</td>\n",
       "    </tr>\n",
       "  </tbody>\n",
       "</table>\n",
       "</div>"
      ],
      "text/plain": [
       "       name   id nametype     recclass    mass  fall                     year  \\\n",
       "0    Aachen    1    Valid           L5      21  Fell  1880-01-01T00:00:00.000   \n",
       "1    Aarhus    2    Valid           H6     720  Fell  1951-01-01T00:00:00.000   \n",
       "2      Abee    6    Valid          EH4  107000  Fell  1952-01-01T00:00:00.000   \n",
       "3  Acapulco   10    Valid  Acapulcoite    1914  Fell  1976-01-01T00:00:00.000   \n",
       "4   Achiras  370    Valid           L6     780  Fell  1902-01-01T00:00:00.000   \n",
       "\n",
       "       reclat      reclong                                        geolocation  \n",
       "0   50.775000     6.083330     {'latitude': '50.775', 'longitude': '6.08333'}  \n",
       "1   56.183330    10.233330  {'latitude': '56.18333', 'longitude': '10.23333'}  \n",
       "2   54.216670  -113.000000    {'latitude': '54.21667', 'longitude': '-113.0'}  \n",
       "3   16.883330   -99.900000     {'latitude': '16.88333', 'longitude': '-99.9'}  \n",
       "4  -33.166670   -64.950000   {'latitude': '-33.16667', 'longitude': '-64.95'}  "
      ]
     },
     "execution_count": 9,
     "metadata": {},
     "output_type": "execute_result"
    }
   ],
   "source": [
    "df.head()"
   ]
  },
  {
   "cell_type": "markdown",
   "id": "fb6a5ccd-50e8-4990-84ea-2af542be3718",
   "metadata": {},
   "source": [
    "## year column"
   ]
  },
  {
   "cell_type": "code",
   "execution_count": 10,
   "id": "e3b08e61-222f-49c4-91ac-59b8957754e9",
   "metadata": {},
   "outputs": [
    {
     "name": "stdout",
     "output_type": "stream",
     "text": [
      "167      1583-01-01T00:00:00.000\n",
      "268      1400-01-01T00:00:00.000\n",
      "273      1492-01-01T00:00:00.000\n",
      "354      1628-01-01T00:00:00.000\n",
      "393      1621-01-01T00:00:00.000\n",
      "605      1632-01-01T00:00:00.000\n",
      "634      1637-01-01T00:00:00.000\n",
      "675      0861-01-01T00:00:00.000\n",
      "706      1671-01-01T00:00:00.000\n",
      "818      1491-01-01T00:00:00.000\n",
      "920      1623-01-01T00:00:00.000\n",
      "997      1668-01-01T00:00:00.000\n",
      "5264     1576-01-01T00:00:00.000\n",
      "22408    1600-01-01T00:00:00.000\n",
      "Name: year, dtype: object\n"
     ]
    }
   ],
   "source": [
    "# Identify rows where year conversion failed\n",
    "invalid_years = df[pd.to_datetime(df['year'], errors='coerce').isna()]\n",
    "print(invalid_years['year'])"
   ]
  },
  {
   "cell_type": "markdown",
   "id": "1e1c7fe2-655d-465e-84b7-ac1df7c48b48",
   "metadata": {},
   "source": [
    "These dates are invalid because `pandas.to_datetime` struggles with interpreting years that are very old (before 1678 by default). By default, pandas tries to interpret all dates within a reasonable historical range, but it might flag very old years as invalid. Furtunately this is not a problem for us since our analysis requires us to use data from recent history"
   ]
  },
  {
   "cell_type": "code",
   "execution_count": 11,
   "id": "2108e067-c232-4f46-aa61-1cb3a111398a",
   "metadata": {},
   "outputs": [],
   "source": [
    "# Extract the year from the year column\n",
    "df['year'] = pd.to_datetime(df['year'], errors='coerce').dt.year"
   ]
  },
  {
   "cell_type": "code",
   "execution_count": 12,
   "id": "d78df688-faf1-4122-b764-a02993ccfd17",
   "metadata": {},
   "outputs": [
    {
     "name": "stdout",
     "output_type": "stream",
     "text": [
      "<class 'pandas.core.frame.DataFrame'>\n",
      "RangeIndex: 38115 entries, 0 to 38114\n",
      "Data columns (total 10 columns):\n",
      " #   Column       Non-Null Count  Dtype  \n",
      "---  ------       --------------  -----  \n",
      " 0   name         38115 non-null  object \n",
      " 1   id           38115 non-null  object \n",
      " 2   nametype     38115 non-null  object \n",
      " 3   recclass     38115 non-null  object \n",
      " 4   mass         38115 non-null  object \n",
      " 5   fall         38115 non-null  object \n",
      " 6   year         38101 non-null  float64\n",
      " 7   reclat       38115 non-null  object \n",
      " 8   reclong      38115 non-null  object \n",
      " 9   geolocation  38115 non-null  object \n",
      "dtypes: float64(1), object(9)\n",
      "memory usage: 2.9+ MB\n"
     ]
    }
   ],
   "source": [
    "df.info()"
   ]
  },
  {
   "cell_type": "code",
   "execution_count": 13,
   "id": "0cf1abc3-0a16-4f56-983d-32bb36f9acf4",
   "metadata": {},
   "outputs": [],
   "source": [
    "# Drop rows with any NaN values\n",
    "df = df.dropna()\n",
    "\n",
    "# Reset index after dropping rows\n",
    "df.reset_index(drop=True, inplace=True)"
   ]
  },
  {
   "cell_type": "code",
   "execution_count": 14,
   "id": "3412ea0c-c83e-4f7d-aa1e-b036d6a56d27",
   "metadata": {},
   "outputs": [
    {
     "data": {
      "text/html": [
       "<div>\n",
       "<style scoped>\n",
       "    .dataframe tbody tr th:only-of-type {\n",
       "        vertical-align: middle;\n",
       "    }\n",
       "\n",
       "    .dataframe tbody tr th {\n",
       "        vertical-align: top;\n",
       "    }\n",
       "\n",
       "    .dataframe thead th {\n",
       "        text-align: right;\n",
       "    }\n",
       "</style>\n",
       "<table border=\"1\" class=\"dataframe\">\n",
       "  <thead>\n",
       "    <tr style=\"text-align: right;\">\n",
       "      <th></th>\n",
       "      <th>name</th>\n",
       "      <th>id</th>\n",
       "      <th>nametype</th>\n",
       "      <th>recclass</th>\n",
       "      <th>mass</th>\n",
       "      <th>fall</th>\n",
       "      <th>year</th>\n",
       "      <th>reclat</th>\n",
       "      <th>reclong</th>\n",
       "      <th>geolocation</th>\n",
       "    </tr>\n",
       "  </thead>\n",
       "  <tbody>\n",
       "    <tr>\n",
       "      <th>24382</th>\n",
       "      <td>Northwest Africa 7701</td>\n",
       "      <td>57150</td>\n",
       "      <td>Valid</td>\n",
       "      <td>CK6</td>\n",
       "      <td>55</td>\n",
       "      <td>Found</td>\n",
       "      <td>2101.0</td>\n",
       "      <td>0.000000</td>\n",
       "      <td>0.000000</td>\n",
       "      <td>{'latitude': '0.0', 'longitude': '0.0'}</td>\n",
       "    </tr>\n",
       "  </tbody>\n",
       "</table>\n",
       "</div>"
      ],
      "text/plain": [
       "                        name     id nametype recclass mass   fall    year  \\\n",
       "24382  Northwest Africa 7701  57150    Valid      CK6   55  Found  2101.0   \n",
       "\n",
       "         reclat   reclong                              geolocation  \n",
       "24382  0.000000  0.000000  {'latitude': '0.0', 'longitude': '0.0'}  "
      ]
     },
     "execution_count": 14,
     "metadata": {},
     "output_type": "execute_result"
    }
   ],
   "source": [
    "invalid_dates = df[(df['year'] < 1678) | (df['year'] > 2016)]\n",
    "invalid_dates"
   ]
  },
  {
   "cell_type": "code",
   "execution_count": 15,
   "id": "972c46bf-de6f-45c3-a119-c68ee70f46e8",
   "metadata": {},
   "outputs": [],
   "source": [
    "# Drop rows with odd years\n",
    "df = df[(df['year'] >= 1678) & (df['year'] <= 2016)]\n"
   ]
  },
  {
   "cell_type": "code",
   "execution_count": 16,
   "id": "cd085817-221e-4ecf-9874-f8a345cde86a",
   "metadata": {},
   "outputs": [
    {
     "name": "stdout",
     "output_type": "stream",
     "text": [
      "<class 'pandas.core.frame.DataFrame'>\n",
      "Index: 38100 entries, 0 to 38100\n",
      "Data columns (total 10 columns):\n",
      " #   Column       Non-Null Count  Dtype  \n",
      "---  ------       --------------  -----  \n",
      " 0   name         38100 non-null  object \n",
      " 1   id           38100 non-null  object \n",
      " 2   nametype     38100 non-null  object \n",
      " 3   recclass     38100 non-null  object \n",
      " 4   mass         38100 non-null  object \n",
      " 5   fall         38100 non-null  object \n",
      " 6   year         38100 non-null  float64\n",
      " 7   reclat       38100 non-null  object \n",
      " 8   reclong      38100 non-null  object \n",
      " 9   geolocation  38100 non-null  object \n",
      "dtypes: float64(1), object(9)\n",
      "memory usage: 3.2+ MB\n"
     ]
    }
   ],
   "source": [
    "df.info()"
   ]
  },
  {
   "cell_type": "markdown",
   "id": "221bea26-c1ae-4f70-bb54-eeef855b6e36",
   "metadata": {},
   "source": [
    "## geolocation, reclat, reclong"
   ]
  },
  {
   "cell_type": "code",
   "execution_count": 17,
   "id": "eb684dec-25fb-4e5a-8ece-6f54f1ed7646",
   "metadata": {},
   "outputs": [],
   "source": [
    "# Convert columns to numeric\n",
    "df['reclat'] = pd.to_numeric(df['reclat'], errors='coerce')\n",
    "df['reclong'] = pd.to_numeric(df['reclong'], errors='coerce')"
   ]
  },
  {
   "cell_type": "code",
   "execution_count": 18,
   "id": "d13a880b-7443-42d7-8dc1-fcdcaf920a93",
   "metadata": {},
   "outputs": [],
   "source": [
    "# Filter rows with valid latitude and longitude\n",
    "df = df[df['reclat'].between(-90, 90) & df['reclong'].between(-180, 180)]"
   ]
  },
  {
   "cell_type": "code",
   "execution_count": 19,
   "id": "cb15800d-4108-4c1d-b1f5-f88925d7a78e",
   "metadata": {},
   "outputs": [],
   "source": [
    "# Drop the geolocation column\n",
    "df.drop(columns=['geolocation'], inplace=True)"
   ]
  },
  {
   "cell_type": "code",
   "execution_count": 20,
   "id": "58524ffb-e77b-4ec6-87b0-fcb7e9a71eb1",
   "metadata": {},
   "outputs": [],
   "source": [
    "# Rename columns\n",
    "df.rename(columns={\n",
    "    'reclat': 'latitude',\n",
    "    'reclong': 'longitude',\n",
    "    'nametype': 'type',\n",
    "    'recclass': 'classification'\n",
    "}, inplace=True)"
   ]
  },
  {
   "cell_type": "code",
   "execution_count": 21,
   "id": "c80de2dc-2a99-46be-adc8-a9fb8ba54197",
   "metadata": {},
   "outputs": [
    {
     "name": "stdout",
     "output_type": "stream",
     "text": [
      "<class 'pandas.core.frame.DataFrame'>\n",
      "Index: 38100 entries, 0 to 38100\n",
      "Data columns (total 9 columns):\n",
      " #   Column          Non-Null Count  Dtype  \n",
      "---  ------          --------------  -----  \n",
      " 0   name            38100 non-null  object \n",
      " 1   id              38100 non-null  object \n",
      " 2   type            38100 non-null  object \n",
      " 3   classification  38100 non-null  object \n",
      " 4   mass            38100 non-null  object \n",
      " 5   fall            38100 non-null  object \n",
      " 6   year            38100 non-null  float64\n",
      " 7   latitude        38100 non-null  float64\n",
      " 8   longitude       38100 non-null  float64\n",
      "dtypes: float64(3), object(6)\n",
      "memory usage: 2.9+ MB\n"
     ]
    }
   ],
   "source": [
    "df.info()"
   ]
  },
  {
   "cell_type": "markdown",
   "id": "aff8b2b3-1ed7-406e-b32b-fd6d009aa11a",
   "metadata": {},
   "source": [
    "## mass"
   ]
  },
  {
   "cell_type": "code",
   "execution_count": 22,
   "id": "b26c5e76-f007-4d0e-a2c3-eb9f0159dad0",
   "metadata": {},
   "outputs": [],
   "source": [
    "df['mass'] = pd.to_numeric(df['mass'], errors='coerce')"
   ]
  },
  {
   "cell_type": "code",
   "execution_count": 23,
   "id": "73fe489b-7008-4cb3-8a35-37cb36c1567c",
   "metadata": {},
   "outputs": [
    {
     "name": "stdout",
     "output_type": "stream",
     "text": [
      "count    3.810000e+04\n",
      "mean     1.402119e+04\n",
      "std      5.719672e+05\n",
      "min      0.000000e+00\n",
      "25%      6.630000e+00\n",
      "50%      2.900000e+01\n",
      "75%      1.868500e+02\n",
      "max      6.000000e+07\n",
      "Name: mass, dtype: float64\n"
     ]
    }
   ],
   "source": [
    "# Check for potential outliers (optional)\n",
    "print(df['mass'].describe())"
   ]
  },
  {
   "cell_type": "code",
   "execution_count": 24,
   "id": "656fe183-57c0-4fa9-a190-138e38b3ef28",
   "metadata": {},
   "outputs": [],
   "source": [
    "# Remove rows with invalid mass (e.g., negative or zero mass)\n",
    "df = df[df['mass'] > 0]"
   ]
  },
  {
   "cell_type": "code",
   "execution_count": 25,
   "id": "a2c13828-a652-4c2c-bfd7-79072069d88e",
   "metadata": {},
   "outputs": [
    {
     "name": "stdout",
     "output_type": "stream",
     "text": [
      "<class 'pandas.core.frame.DataFrame'>\n",
      "Index: 38081 entries, 0 to 38100\n",
      "Data columns (total 9 columns):\n",
      " #   Column          Non-Null Count  Dtype  \n",
      "---  ------          --------------  -----  \n",
      " 0   name            38081 non-null  object \n",
      " 1   id              38081 non-null  object \n",
      " 2   type            38081 non-null  object \n",
      " 3   classification  38081 non-null  object \n",
      " 4   mass            38081 non-null  float64\n",
      " 5   fall            38081 non-null  object \n",
      " 6   year            38081 non-null  float64\n",
      " 7   latitude        38081 non-null  float64\n",
      " 8   longitude       38081 non-null  float64\n",
      "dtypes: float64(4), object(5)\n",
      "memory usage: 2.9+ MB\n"
     ]
    }
   ],
   "source": [
    "df.info()"
   ]
  },
  {
   "cell_type": "markdown",
   "id": "3f123a57-3c59-4580-8843-e19396e952f7",
   "metadata": {},
   "source": [
    "## Fall column"
   ]
  },
  {
   "cell_type": "code",
   "execution_count": 26,
   "id": "7b5b9a76-7810-4ea5-961b-1b5c2be27be7",
   "metadata": {},
   "outputs": [],
   "source": [
    "# Count occurrences of each unique value in the 'fall' column\n",
    "fall_counts = df['fall'].value_counts()"
   ]
  },
  {
   "cell_type": "code",
   "execution_count": 27,
   "id": "59db5751-a995-4f40-8ebf-591ffde8da57",
   "metadata": {},
   "outputs": [
    {
     "data": {
      "text/plain": [
       "fall\n",
       "Found    37028\n",
       "Fell      1053\n",
       "Name: count, dtype: int64"
      ]
     },
     "execution_count": 27,
     "metadata": {},
     "output_type": "execute_result"
    }
   ],
   "source": [
    "fall_counts"
   ]
  },
  {
   "cell_type": "markdown",
   "id": "da68de56-533b-44da-8336-5a1bea7487cd",
   "metadata": {},
   "source": [
    "## id column"
   ]
  },
  {
   "cell_type": "code",
   "execution_count": 28,
   "id": "48e8631c-23be-480e-a677-f7a290d23828",
   "metadata": {},
   "outputs": [
    {
     "name": "stdout",
     "output_type": "stream",
     "text": [
      "True\n"
     ]
    }
   ],
   "source": [
    "# Check if the id column contains unique values\n",
    "print(df['id'].is_unique)  # Returns True if all IDs are unique, False otherwise"
   ]
  },
  {
   "cell_type": "markdown",
   "id": "91084655-866d-4ea4-9134-15325dbd2f62",
   "metadata": {},
   "source": [
    "## recclass"
   ]
  },
  {
   "cell_type": "code",
   "execution_count": 29,
   "id": "7aa9e216-0f88-47b0-938f-f06160d96fc3",
   "metadata": {},
   "outputs": [
    {
     "name": "stdout",
     "output_type": "stream",
     "text": [
      "['L5' 'H6' 'EH4' 'Acapulcoite' 'L6' 'LL3-6' 'H5' 'L' 'Diogenite-pm' 'H4'\n",
      " 'H' 'Iron, IVA' 'CR2-an' 'LL5' 'CI1' 'L/LL4' 'Eucrite-mmict' 'CV3'\n",
      " 'Ureilite-an' 'Stone-uncl' 'L3' 'Angrite' 'LL6' 'L4' 'Aubrite'\n",
      " 'Iron, IIAB' 'Iron, IAB-sLL' 'Iron, ungrouped' 'CM2' 'Mesosiderite-A1'\n",
      " 'LL4' 'C2-ung' 'LL3.8' 'Howardite' 'Eucrite-pmict' 'Diogenite' 'LL3.15'\n",
      " 'LL3.9' 'Iron, IAB-MG' 'H/L3.9' 'Eucrite' 'H4-an' 'L/LL6' 'Iron, IIIAB'\n",
      " 'OC' 'H/L4' 'H4-5' 'L3.7' 'LL3.4' 'Martian (chassignite)' 'EL6' 'H3.8'\n",
      " 'H3-5' 'H5-6' 'Mesosiderite' 'H5-7' 'L3-6' 'H4-6' 'Ureilite'\n",
      " 'Mesosiderite-A3/4' 'CO3.3' 'H3' 'EH3/4-an' 'Iron, IIE' 'L/LL5' 'H3.7'\n",
      " 'CBa' 'H4/5' 'H3/4' 'H?' 'H3-6' 'L3.4' 'Iron, IAB-sHL' 'L3.7-6'\n",
      " 'Iron, IID' 'EH7-an' 'CR2' 'CO3.2' 'K3' 'L5/6' 'CK4' 'Iron, IIE-an'\n",
      " 'L3.6' 'Iron' 'LL3.2' 'CO3.5' 'Lodranite' 'Mesosiderite-A3' 'L3-4' 'H5/6'\n",
      " 'Pallasite, PMG' 'Eucrite-cm' 'Pallasite' 'L5-6' 'CO3.6'\n",
      " 'Martian (nakhlite)' 'LL3.6' 'C3-ung' 'H3-4' 'CO3.4' 'EH3'\n",
      " 'Iron, IAB-ung' 'Winonaite' 'LL' 'Eucrite-br' 'Iron, IIF' 'R3.8-6' 'L4-6'\n",
      " 'EH5' 'LL3.00' 'H3.4' 'Martian (shergottite)' 'Achondrite-ung' 'LL3.3'\n",
      " 'C' 'H/L3.6' 'Iron, IIIAB-an' 'LL7' 'Mesosiderite-B2' 'LL4-6' 'CO3.7'\n",
      " 'L/LL6-an' 'Iron, IAB complex' 'Pallasite, PMG-an' 'H3.9/4' 'L3.8'\n",
      " 'LL5-6' 'LL3.8-6' 'L3.9' 'L4-5' 'L3-5' 'LL4/5' 'L4/5' 'H3.9' 'H3.6-6'\n",
      " 'H3.8-5' 'H3.8/4' 'H3.9-5' 'CH3' 'R3.8-5' 'L3.9/4' 'E4' 'CO3'\n",
      " 'Chondrite-ung' 'H~5' 'H~6' 'L/LL3.10' 'EL5' 'LL3' 'L~6' 'L~3' 'H~4'\n",
      " 'L(LL)3.5-3.7' 'Iron, IIIE-an' 'H3.6' 'L3.4-3.7' 'L3.5' 'CM1/2'\n",
      " 'Martian (OPX)' 'Brachinite' 'LL7(?)' 'LL6(?)' 'Eucrite-Mg rich' 'H3.5-4'\n",
      " 'EL3' 'R3.6' 'H3.5' 'CM1' 'L/LL3' 'H7' 'L(?)3' 'L3.2' 'L3.7-3.9'\n",
      " 'Mesosiderite-B1' 'LL3.7' 'CO3.0' 'LL3.5' 'L3.7-4' 'Eucrite-unbr'\n",
      " 'CV3-an' 'Lunar (anorth)' 'L3.3' 'Iron, IAB-sLM' 'Lunar' 'Iron, IC'\n",
      " 'Iron, IID-an' 'Iron, IIIE' 'Iron, IVA-an' 'CK6' 'L3.1' 'CK5' 'H3.3'\n",
      " 'H3.7-6' 'E6' 'H3.0' 'H3.1' 'L3.0' 'L/LL3.4' 'C6' 'LL3.0'\n",
      " 'Lunar (gabbro)' 'R4' 'C4' 'Iron, IIG' 'Iron, IIC' 'H5-an' 'EH4/5'\n",
      " 'Iron, IIIF' 'R3-6' 'Mesosiderite-B4' 'L6/7' 'L-imp melt' 'CK3' 'H3-an'\n",
      " 'Iron, IVB' 'R3.8' 'L~5' 'Mesosiderite-an' 'Mesosiderite-A2'\n",
      " 'Pallasite, PES' 'C4-ung' 'Iron, IAB?' 'Mesosiderite-A' 'R3.5-6' 'H3.9-6'\n",
      " 'Ureilite-pmict' 'LL~6' 'CK4/5' 'EL4' 'Lunar (feldsp. breccia)' 'L3.9-6'\n",
      " 'H-an' 'L/LL3-6' 'L/LL3-5' 'H/L3.5' 'H/L3' 'R3-4' 'CK3-an' 'LL4-5' 'H/L6'\n",
      " 'L3/4' 'H-imp melt' 'CR' 'Chondrite-fusion crust' 'Iron, IAB-sLH'\n",
      " 'H(L)3-an' 'L(LL)3' 'H(L)3' 'R3' 'L7' 'CM-an' 'L/LL~6' 'L/LL~5' 'L~4'\n",
      " 'L/LL~4' 'LL(L)3' 'H3.2' 'L-melt breccia' 'H6-melt breccia'\n",
      " 'H5-melt breccia' 'H-melt rock' 'Eucrite-an' 'Lunar (bas/anor)' 'LL5/6'\n",
      " 'LL3/4' 'H3.4/3.5' 'Lunar (basalt)' 'H/L5' 'H(5?)' 'LL-imp melt'\n",
      " 'Mesosiderite?' 'H~4/5' 'L6-melt breccia' 'L3.5-3.7' 'Iron, IIAB-an'\n",
      " 'L3.3-3.7' 'L3.2-3.6' 'L3.3-3.6' 'Acapulcoite/Lodranite' 'Mesosiderite-B'\n",
      " 'CK5/6' 'L3.05' 'C2' 'C4/5' 'L/LL3.2' 'Iron, IIIAB?' 'L3.5-5' 'L/LL(?)3'\n",
      " 'H4(?)' 'Iron, IAB-sHH' 'EL4/5' 'L5-7' 'Diogenite-an' 'CR1' 'H5 ' 'L5 '\n",
      " 'H4 ' 'L4 ' 'E' 'L6 ' 'H3 ' 'LL6 ' 'H-metal' 'H6 ' 'L-metal'\n",
      " 'Mesosiderite-A4' 'L/LL5/6' 'H3.8-4' 'CBb' 'EL6/7' 'EL7' 'CH/CBb' 'CO3.8'\n",
      " 'H/L~4' 'Mesosiderite-C2' 'R5' 'H4/6' 'L-melt rock' 'H3.7-5' 'LL3.7-6'\n",
      " 'H3.7/3.8' 'L3.7/3.8' 'EH-imp melt' 'R' 'Aubrite-an' 'R6' 'L3.5-3.9'\n",
      " 'L3.2-3.5' 'L3.3-3.5' 'L3.0-3.7' 'E3-an' 'K' 'E3' 'CK4-an' 'Fusion crust'\n",
      " 'L(LL)3.05' 'L3.10' 'Acapulcoite/lodranite' 'CB' 'LL-melt rock'\n",
      " 'EL-melt rock' 'EH6' 'Pallasite, ungrouped' 'L/LL4/5' 'L3.8-an'\n",
      " 'Iron, IAB-an' 'C5/6-ung' 'CV2' 'Iron, IC-an' 'Lunar (bas. breccia)'\n",
      " 'L3.8-6' 'H3.05' 'H3.10' 'Iron, IAB-sHL-an' 'Achondrite-prim' 'LL3.05'\n",
      " 'CK' 'Diogenite-olivine' 'LL3.8-4' 'C3.0-ung' 'LL-melt breccia'\n",
      " 'LL6-melt breccia' 'L5-melt breccia' 'CO3.1' 'R3-5' 'LL6-an'\n",
      " 'L4-melt breccia' 'Howardite-an' 'H4-melt breccia'\n",
      " 'Martian (basaltic breccia)' 'L3-melt breccia' 'L~4-6' 'LL~5' 'R3.5-4'\n",
      " 'CR7' 'H-melt breccia' 'Lunar (norite)' 'L3.00' 'H3.0-3.4' 'L/LL4-6'\n",
      " 'EH7' 'L4-an' 'E-an' 'LL3-5' 'H3.8/3.9' 'L3.9-5' 'H3.8-6' 'H3.4-5'\n",
      " 'L3.0-3.9' 'L3.5-3.8' 'H3.2-3.7' 'L3.6-4' 'L/LL3.6/3.7' 'H/L4-5'\n",
      " 'Enst achon-ung' 'LL~3' 'Pallasite?' 'LL5-7' 'LL3.9/4' 'H3.8-an' 'CR-an'\n",
      " 'L/LL5-6' 'L(LL)5' 'L(LL)6' 'LL3.1-3.5' 'LL3.1' 'E5' 'Lodranite-an'\n",
      " 'H3.2-6' 'EH' 'H(?)4' 'E5-an' 'H3.2-an' 'EH6-an' 'Stone-ung' 'R3.9'\n",
      " 'C1/2-ung' 'L/LL' 'CM' 'Mesosiderite-C']\n"
     ]
    }
   ],
   "source": [
    "# Check unique values in the 'recclass' column\n",
    "print(df['classification'].unique())"
   ]
  },
  {
   "cell_type": "code",
   "execution_count": 30,
   "id": "99d5043a-0f5f-474d-a62c-a9d50416ad55",
   "metadata": {},
   "outputs": [
    {
     "name": "stdout",
     "output_type": "stream",
     "text": [
      "classification\n",
      "L6                7518\n",
      "H5                6243\n",
      "H6                3897\n",
      "H4                3880\n",
      "L5                3264\n",
      "                  ... \n",
      "H4(?)                1\n",
      "EL4/5                1\n",
      "L5-7                 1\n",
      "H/L3.9               1\n",
      "Mesosiderite-C       1\n",
      "Name: count, Length: 420, dtype: int64\n"
     ]
    }
   ],
   "source": [
    "# Count occurrences of each classification type\n",
    "classification_counts = df['classification'].value_counts()\n",
    "print(classification_counts)"
   ]
  },
  {
   "cell_type": "markdown",
   "id": "3ae8c2a6-6089-4b1d-a741-a9fd7fb75cf0",
   "metadata": {},
   "source": [
    "## type"
   ]
  },
  {
   "cell_type": "code",
   "execution_count": 31,
   "id": "cc7c980c-a140-49dc-9f30-282c7be5e68e",
   "metadata": {},
   "outputs": [
    {
     "name": "stdout",
     "output_type": "stream",
     "text": [
      "['Valid' 'Relict']\n"
     ]
    }
   ],
   "source": [
    "# Check unique values in the 'type' column\n",
    "print(df['type'].unique())\n"
   ]
  },
  {
   "cell_type": "code",
   "execution_count": 32,
   "id": "4c79dffc-2e1b-4986-aefd-5d06a98b5990",
   "metadata": {},
   "outputs": [
    {
     "name": "stdout",
     "output_type": "stream",
     "text": [
      "type\n",
      "Valid     38078\n",
      "Relict        3\n",
      "Name: count, dtype: int64\n"
     ]
    }
   ],
   "source": [
    "# Count occurrences of each type\n",
    "type_counts = df['type'].value_counts()\n",
    "print(type_counts)"
   ]
  },
  {
   "cell_type": "code",
   "execution_count": 33,
   "id": "4ee72abd-3aea-4751-a9d1-79bc2b505628",
   "metadata": {},
   "outputs": [],
   "source": [
    "# Sort the DataFrame by 'year' in ascending order\n",
    "df = df.sort_values(by='year', ascending=True)"
   ]
  },
  {
   "cell_type": "code",
   "execution_count": 34,
   "id": "8e1e443b-eadc-40d6-9333-b07ccbbc63cb",
   "metadata": {},
   "outputs": [
    {
     "data": {
      "text/html": [
       "<div>\n",
       "<style scoped>\n",
       "    .dataframe tbody tr th:only-of-type {\n",
       "        vertical-align: middle;\n",
       "    }\n",
       "\n",
       "    .dataframe tbody tr th {\n",
       "        vertical-align: top;\n",
       "    }\n",
       "\n",
       "    .dataframe thead th {\n",
       "        text-align: right;\n",
       "    }\n",
       "</style>\n",
       "<table border=\"1\" class=\"dataframe\">\n",
       "  <thead>\n",
       "    <tr style=\"text-align: right;\">\n",
       "      <th></th>\n",
       "      <th>name</th>\n",
       "      <th>id</th>\n",
       "      <th>type</th>\n",
       "      <th>classification</th>\n",
       "      <th>mass</th>\n",
       "      <th>fall</th>\n",
       "      <th>year</th>\n",
       "      <th>latitude</th>\n",
       "      <th>longitude</th>\n",
       "    </tr>\n",
       "  </thead>\n",
       "  <tbody>\n",
       "    <tr>\n",
       "      <th>838</th>\n",
       "      <td>Sasagase</td>\n",
       "      <td>23187</td>\n",
       "      <td>Valid</td>\n",
       "      <td>H</td>\n",
       "      <td>695.0</td>\n",
       "      <td>Fell</td>\n",
       "      <td>1688.0</td>\n",
       "      <td>34.71667</td>\n",
       "      <td>137.78333</td>\n",
       "    </tr>\n",
       "    <tr>\n",
       "      <th>843</th>\n",
       "      <td>Schellin</td>\n",
       "      <td>23457</td>\n",
       "      <td>Valid</td>\n",
       "      <td>L</td>\n",
       "      <td>7000.0</td>\n",
       "      <td>Fell</td>\n",
       "      <td>1715.0</td>\n",
       "      <td>53.35000</td>\n",
       "      <td>15.05000</td>\n",
       "    </tr>\n",
       "    <tr>\n",
       "      <th>30539</th>\n",
       "      <td>Siratik</td>\n",
       "      <td>23615</td>\n",
       "      <td>Valid</td>\n",
       "      <td>Iron, IIAB</td>\n",
       "      <td>1700.0</td>\n",
       "      <td>Found</td>\n",
       "      <td>1716.0</td>\n",
       "      <td>14.00000</td>\n",
       "      <td>-11.00000</td>\n",
       "    </tr>\n",
       "    <tr>\n",
       "      <th>756</th>\n",
       "      <td>Ploschkovitz</td>\n",
       "      <td>18849</td>\n",
       "      <td>Valid</td>\n",
       "      <td>L5</td>\n",
       "      <td>39.0</td>\n",
       "      <td>Fell</td>\n",
       "      <td>1723.0</td>\n",
       "      <td>50.53333</td>\n",
       "      <td>14.11667</td>\n",
       "    </tr>\n",
       "    <tr>\n",
       "      <th>30619</th>\n",
       "      <td>Steinbach</td>\n",
       "      <td>23722</td>\n",
       "      <td>Valid</td>\n",
       "      <td>Iron, IVA-an</td>\n",
       "      <td>98000.0</td>\n",
       "      <td>Found</td>\n",
       "      <td>1724.0</td>\n",
       "      <td>50.50000</td>\n",
       "      <td>12.50000</td>\n",
       "    </tr>\n",
       "  </tbody>\n",
       "</table>\n",
       "</div>"
      ],
      "text/plain": [
       "               name     id   type classification     mass   fall    year  \\\n",
       "838        Sasagase  23187  Valid              H    695.0   Fell  1688.0   \n",
       "843        Schellin  23457  Valid              L   7000.0   Fell  1715.0   \n",
       "30539       Siratik  23615  Valid     Iron, IIAB   1700.0  Found  1716.0   \n",
       "756    Ploschkovitz  18849  Valid             L5     39.0   Fell  1723.0   \n",
       "30619     Steinbach  23722  Valid   Iron, IVA-an  98000.0  Found  1724.0   \n",
       "\n",
       "       latitude  longitude  \n",
       "838    34.71667  137.78333  \n",
       "843    53.35000   15.05000  \n",
       "30539  14.00000  -11.00000  \n",
       "756    50.53333   14.11667  \n",
       "30619  50.50000   12.50000  "
      ]
     },
     "execution_count": 34,
     "metadata": {},
     "output_type": "execute_result"
    }
   ],
   "source": [
    "df.head()"
   ]
  },
  {
   "cell_type": "code",
   "execution_count": 35,
   "id": "3c5d9079-c940-4730-9415-ce4237d5e9d3",
   "metadata": {},
   "outputs": [],
   "source": [
    "# Save DataFrame to CSV file\n",
    "df.to_csv('cleaned_meteorite_landings.csv', index=False)"
   ]
  },
  {
   "cell_type": "code",
   "execution_count": 36,
   "id": "e39d77f9-e479-41b6-8ac9-ed07f386032b",
   "metadata": {},
   "outputs": [],
   "source": [
    "# Filter rows where the year is >= 1950\n",
    "df_filtered = df[df['year']>= 1950]"
   ]
  },
  {
   "cell_type": "code",
   "execution_count": 37,
   "id": "18108fec-1940-4576-bd98-5915f61c7585",
   "metadata": {},
   "outputs": [
    {
     "name": "stdout",
     "output_type": "stream",
     "text": [
      "<class 'pandas.core.frame.DataFrame'>\n",
      "Index: 36459 entries, 15658 to 24428\n",
      "Data columns (total 9 columns):\n",
      " #   Column          Non-Null Count  Dtype  \n",
      "---  ------          --------------  -----  \n",
      " 0   name            36459 non-null  object \n",
      " 1   id              36459 non-null  object \n",
      " 2   type            36459 non-null  object \n",
      " 3   classification  36459 non-null  object \n",
      " 4   mass            36459 non-null  float64\n",
      " 5   fall            36459 non-null  object \n",
      " 6   year            36459 non-null  float64\n",
      " 7   latitude        36459 non-null  float64\n",
      " 8   longitude       36459 non-null  float64\n",
      "dtypes: float64(4), object(5)\n",
      "memory usage: 2.8+ MB\n"
     ]
    }
   ],
   "source": [
    "df_filtered.info()"
   ]
  },
  {
   "cell_type": "code",
   "execution_count": 38,
   "id": "c5e8fda0-c611-4186-a5c9-c4c1a9512cbe",
   "metadata": {},
   "outputs": [],
   "source": [
    "df_filtered.to_csv('cleaned_meteorite_landing_from_1950.csv', index=False)"
   ]
  }
 ],
 "metadata": {
  "kernelspec": {
   "display_name": "Python 3 (ipykernel)",
   "language": "python",
   "name": "python3"
  },
  "language_info": {
   "codemirror_mode": {
    "name": "ipython",
    "version": 3
   },
   "file_extension": ".py",
   "mimetype": "text/x-python",
   "name": "python",
   "nbconvert_exporter": "python",
   "pygments_lexer": "ipython3",
   "version": "3.9.19"
  }
 },
 "nbformat": 4,
 "nbformat_minor": 5
}
